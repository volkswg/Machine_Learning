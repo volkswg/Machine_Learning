{
 "cells": [
  {
   "cell_type": "markdown",
   "metadata": {},
   "source": [
    "# Keras Tutorial \n",
    "- See https://keras.io\n"
   ]
  },
  {
   "cell_type": "code",
   "execution_count": 1,
   "metadata": {},
   "outputs": [
    {
     "name": "stderr",
     "output_type": "stream",
     "text": [
      "Using TensorFlow backend.\n"
     ]
    },
    {
     "data": {
      "text/plain": [
       "'2.2.2'"
      ]
     },
     "execution_count": 1,
     "metadata": {},
     "output_type": "execute_result"
    }
   ],
   "source": [
    "import keras\n",
    "keras.__version__"
   ]
  },
  {
   "cell_type": "markdown",
   "metadata": {},
   "source": [
    "## 1. Dataset\n",
    "\n",
    "We will use a build-in data 'MNIST' which is a handwritten digit number image from 0 to 9"
   ]
  },
  {
   "cell_type": "code",
   "execution_count": 2,
   "metadata": {},
   "outputs": [],
   "source": [
    "from keras.datasets import mnist\n",
    "\n",
    "(train_imgages, train_labels), (test_imgages, test_labels) = mnist.load_data()"
   ]
  },
  {
   "cell_type": "markdown",
   "metadata": {},
   "source": [
    "### Type of dataset"
   ]
  },
  {
   "cell_type": "code",
   "execution_count": 3,
   "metadata": {},
   "outputs": [
    {
     "name": "stdout",
     "output_type": "stream",
     "text": [
      "Feature type: <class 'numpy.ndarray'>\n",
      "Label type: <class 'numpy.ndarray'>\n"
     ]
    }
   ],
   "source": [
    "print('Feature type: %s'%type(train_imgages))\n",
    "print('Label type: %s'%type(train_labels))"
   ]
  },
  {
   "cell_type": "markdown",
   "metadata": {},
   "source": [
    "### Type of value in the dataset"
   ]
  },
  {
   "cell_type": "code",
   "execution_count": 4,
   "metadata": {},
   "outputs": [
    {
     "name": "stdout",
     "output_type": "stream",
     "text": [
      "Feature data type: uint8\n",
      "Label data type: uint8\n"
     ]
    }
   ],
   "source": [
    "print('Feature data type: %s'%train_imgages.dtype)\n",
    "print('Label data type: %s'%train_labels.dtype)"
   ]
  },
  {
   "cell_type": "markdown",
   "metadata": {},
   "source": [
    "### Shape"
   ]
  },
  {
   "cell_type": "code",
   "execution_count": 5,
   "metadata": {},
   "outputs": [
    {
     "name": "stdout",
     "output_type": "stream",
     "text": [
      "Train_set Feature shape: (60000, 28, 28)\n",
      "Train_set Label type: (60000,)\n",
      "Test_set Feature shape: (10000, 28, 28)\n",
      "Test_set Label type: (10000,)\n"
     ]
    }
   ],
   "source": [
    "print('Train_set Feature shape: %s'%str(train_imgages.shape))\n",
    "print('Train_set Label type: %s'%str(train_labels.shape))\n",
    "print('Test_set Feature shape: %s'%str(test_imgages.shape))\n",
    "print('Test_set Label type: %s'%str(test_labels.shape))"
   ]
  },
  {
   "cell_type": "markdown",
   "metadata": {},
   "source": [
    "### Dimension"
   ]
  },
  {
   "cell_type": "code",
   "execution_count": 6,
   "metadata": {},
   "outputs": [
    {
     "name": "stdout",
     "output_type": "stream",
     "text": [
      "Train_set Feature dimension: 3\n",
      "Train_set Label dimension: 1\n",
      "Test_set Feature dimension: 3\n",
      "Test_set Label dimension: 1\n"
     ]
    }
   ],
   "source": [
    "print('Train_set Feature dimension: %s'%str(train_imgages.ndim))\n",
    "print('Train_set Label dimension: %s'%str(train_labels.ndim))\n",
    "print('Test_set Feature dimension: %s'%str(test_imgages.ndim))\n",
    "print('Test_set Label dimension: %s'%str(test_labels.ndim))"
   ]
  },
  {
   "cell_type": "markdown",
   "metadata": {},
   "source": [
    "### Characteristic of data "
   ]
  },
  {
   "cell_type": "code",
   "execution_count": 7,
   "metadata": {},
   "outputs": [
    {
     "data": {
      "text/plain": [
       "array([[  0,   0,   0,   0,   0,   0,   0,   0,   0,   0,   0,   0,   0,\n",
       "          0,   0,   0,   0,   0,   0,   0,   0,   0,   0,   0,   0,   0,\n",
       "          0,   0],\n",
       "       [  0,   0,   0,   0,   0,   0,   0,   0,   0,   0,   0,   0,   0,\n",
       "          0,   0,   0,   0,   0,   0,   0,   0,   0,   0,   0,   0,   0,\n",
       "          0,   0],\n",
       "       [  0,   0,   0,   0,   0,   0,   0,   0,   0,   0,   0,   0,   0,\n",
       "          0,   0,   0,   0,   0,   0,   0,   0,   0,   0,   0,   0,   0,\n",
       "          0,   0],\n",
       "       [  0,   0,   0,   0,   0,   0,   0,   0,   0,   0,   0,   0,   0,\n",
       "          0,   0,   0,   0,   0,   0,   0,   0,   0,   0,   0,   0,   0,\n",
       "          0,   0],\n",
       "       [  0,   0,   0,   0,   0,   0,   0,   0,   0,   0,   0,   0,   0,\n",
       "          0,   0,   0,   0,   0,   0,   0,   0,   0,   0,   0,   0,   0,\n",
       "          0,   0],\n",
       "       [  0,   0,   0,   0,   0,   0,   0,   0,   0,   0,   0,   0,   3,\n",
       "         18,  18,  18, 126, 136, 175,  26, 166, 255, 247, 127,   0,   0,\n",
       "          0,   0],\n",
       "       [  0,   0,   0,   0,   0,   0,   0,   0,  30,  36,  94, 154, 170,\n",
       "        253, 253, 253, 253, 253, 225, 172, 253, 242, 195,  64,   0,   0,\n",
       "          0,   0],\n",
       "       [  0,   0,   0,   0,   0,   0,   0,  49, 238, 253, 253, 253, 253,\n",
       "        253, 253, 253, 253, 251,  93,  82,  82,  56,  39,   0,   0,   0,\n",
       "          0,   0],\n",
       "       [  0,   0,   0,   0,   0,   0,   0,  18, 219, 253, 253, 253, 253,\n",
       "        253, 198, 182, 247, 241,   0,   0,   0,   0,   0,   0,   0,   0,\n",
       "          0,   0],\n",
       "       [  0,   0,   0,   0,   0,   0,   0,   0,  80, 156, 107, 253, 253,\n",
       "        205,  11,   0,  43, 154,   0,   0,   0,   0,   0,   0,   0,   0,\n",
       "          0,   0],\n",
       "       [  0,   0,   0,   0,   0,   0,   0,   0,   0,  14,   1, 154, 253,\n",
       "         90,   0,   0,   0,   0,   0,   0,   0,   0,   0,   0,   0,   0,\n",
       "          0,   0],\n",
       "       [  0,   0,   0,   0,   0,   0,   0,   0,   0,   0,   0, 139, 253,\n",
       "        190,   2,   0,   0,   0,   0,   0,   0,   0,   0,   0,   0,   0,\n",
       "          0,   0],\n",
       "       [  0,   0,   0,   0,   0,   0,   0,   0,   0,   0,   0,  11, 190,\n",
       "        253,  70,   0,   0,   0,   0,   0,   0,   0,   0,   0,   0,   0,\n",
       "          0,   0],\n",
       "       [  0,   0,   0,   0,   0,   0,   0,   0,   0,   0,   0,   0,  35,\n",
       "        241, 225, 160, 108,   1,   0,   0,   0,   0,   0,   0,   0,   0,\n",
       "          0,   0],\n",
       "       [  0,   0,   0,   0,   0,   0,   0,   0,   0,   0,   0,   0,   0,\n",
       "         81, 240, 253, 253, 119,  25,   0,   0,   0,   0,   0,   0,   0,\n",
       "          0,   0],\n",
       "       [  0,   0,   0,   0,   0,   0,   0,   0,   0,   0,   0,   0,   0,\n",
       "          0,  45, 186, 253, 253, 150,  27,   0,   0,   0,   0,   0,   0,\n",
       "          0,   0],\n",
       "       [  0,   0,   0,   0,   0,   0,   0,   0,   0,   0,   0,   0,   0,\n",
       "          0,   0,  16,  93, 252, 253, 187,   0,   0,   0,   0,   0,   0,\n",
       "          0,   0],\n",
       "       [  0,   0,   0,   0,   0,   0,   0,   0,   0,   0,   0,   0,   0,\n",
       "          0,   0,   0,   0, 249, 253, 249,  64,   0,   0,   0,   0,   0,\n",
       "          0,   0],\n",
       "       [  0,   0,   0,   0,   0,   0,   0,   0,   0,   0,   0,   0,   0,\n",
       "          0,  46, 130, 183, 253, 253, 207,   2,   0,   0,   0,   0,   0,\n",
       "          0,   0],\n",
       "       [  0,   0,   0,   0,   0,   0,   0,   0,   0,   0,   0,   0,  39,\n",
       "        148, 229, 253, 253, 253, 250, 182,   0,   0,   0,   0,   0,   0,\n",
       "          0,   0],\n",
       "       [  0,   0,   0,   0,   0,   0,   0,   0,   0,   0,  24, 114, 221,\n",
       "        253, 253, 253, 253, 201,  78,   0,   0,   0,   0,   0,   0,   0,\n",
       "          0,   0],\n",
       "       [  0,   0,   0,   0,   0,   0,   0,   0,  23,  66, 213, 253, 253,\n",
       "        253, 253, 198,  81,   2,   0,   0,   0,   0,   0,   0,   0,   0,\n",
       "          0,   0],\n",
       "       [  0,   0,   0,   0,   0,   0,  18, 171, 219, 253, 253, 253, 253,\n",
       "        195,  80,   9,   0,   0,   0,   0,   0,   0,   0,   0,   0,   0,\n",
       "          0,   0],\n",
       "       [  0,   0,   0,   0,  55, 172, 226, 253, 253, 253, 253, 244, 133,\n",
       "         11,   0,   0,   0,   0,   0,   0,   0,   0,   0,   0,   0,   0,\n",
       "          0,   0],\n",
       "       [  0,   0,   0,   0, 136, 253, 253, 253, 212, 135, 132,  16,   0,\n",
       "          0,   0,   0,   0,   0,   0,   0,   0,   0,   0,   0,   0,   0,\n",
       "          0,   0],\n",
       "       [  0,   0,   0,   0,   0,   0,   0,   0,   0,   0,   0,   0,   0,\n",
       "          0,   0,   0,   0,   0,   0,   0,   0,   0,   0,   0,   0,   0,\n",
       "          0,   0],\n",
       "       [  0,   0,   0,   0,   0,   0,   0,   0,   0,   0,   0,   0,   0,\n",
       "          0,   0,   0,   0,   0,   0,   0,   0,   0,   0,   0,   0,   0,\n",
       "          0,   0],\n",
       "       [  0,   0,   0,   0,   0,   0,   0,   0,   0,   0,   0,   0,   0,\n",
       "          0,   0,   0,   0,   0,   0,   0,   0,   0,   0,   0,   0,   0,\n",
       "          0,   0]], dtype=uint8)"
      ]
     },
     "execution_count": 7,
     "metadata": {},
     "output_type": "execute_result"
    }
   ],
   "source": [
    "train_imgages[0]"
   ]
  },
  {
   "cell_type": "code",
   "execution_count": 8,
   "metadata": {},
   "outputs": [
    {
     "data": {
      "text/plain": [
       "<matplotlib.image.AxesImage at 0x268ef757198>"
      ]
     },
     "execution_count": 8,
     "metadata": {},
     "output_type": "execute_result"
    },
    {
     "data": {
      "image/png": "[encoded data removed]",
      "text/plain": [
       "<Figure size 432x288 with 1 Axes>"
      ]
     },
     "metadata": {
      "needs_background": "light"
     },
     "output_type": "display_data"
    }
   ],
   "source": [
    "digit = train_imgages[0]\n",
    "\n",
    "import matplotlib.pyplot as plt\n",
    "%matplotlib inline\n",
    "\n",
    "plt.imshow(digit, cmap=plt.cm.binary)"
   ]
  },
  {
   "cell_type": "code",
   "execution_count": 9,
   "metadata": {},
   "outputs": [
    {
     "data": {
      "text/plain": [
       "array([5, 0, 4, ..., 5, 6, 8], dtype=uint8)"
      ]
     },
     "execution_count": 9,
     "metadata": {},
     "output_type": "execute_result"
    }
   ],
   "source": [
    "train_labels"
   ]
  },
  {
   "cell_type": "markdown",
   "metadata": {},
   "source": [
    "## 2. Create a fully-connect neural network model"
   ]
  },
  {
   "cell_type": "code",
   "execution_count": 10,
   "metadata": {},
   "outputs": [],
   "source": [
    "from keras import models\n",
    "from keras import layers"
   ]
  },
  {
   "cell_type": "code",
   "execution_count": 11,
   "metadata": {},
   "outputs": [],
   "source": [
    "network = models.Sequential()\n",
    "network.add(layers.Dense(512, activation='relu',input_shape=(28*28,)))\n",
    "network.add(layers.Dense(10, activation='softmax'))"
   ]
  },
  {
   "cell_type": "code",
   "execution_count": 12,
   "metadata": {},
   "outputs": [],
   "source": [
    "network.compile(optimizer='rmsprop',\n",
    "               loss='categorical_crossentropy',\n",
    "               metrics=['accuracy'])"
   ]
  },
  {
   "cell_type": "code",
   "execution_count": 13,
   "metadata": {},
   "outputs": [
    {
     "name": "stdout",
     "output_type": "stream",
     "text": [
      "_________________________________________________________________\n",
      "Layer (type)                 Output Shape              Param #   \n",
      "=================================================================\n",
      "dense_1 (Dense)              (None, 512)               401920    \n",
      "_________________________________________________________________\n",
      "dense_2 (Dense)              (None, 10)                5130      \n",
      "=================================================================\n",
      "Total params: 407,050\n",
      "Trainable params: 407,050\n",
      "Non-trainable params: 0\n",
      "_________________________________________________________________\n"
     ]
    }
   ],
   "source": [
    "network.summary()"
   ]
  },
  {
   "cell_type": "markdown",
   "metadata": {},
   "source": [
    "## 3. Preprocessing Data"
   ]
  },
  {
   "cell_type": "code",
   "execution_count": 14,
   "metadata": {},
   "outputs": [
    {
     "data": {
      "text/plain": [
       "array([5, 0, 4, ..., 5, 6, 8], dtype=uint8)"
      ]
     },
     "execution_count": 14,
     "metadata": {},
     "output_type": "execute_result"
    }
   ],
   "source": [
    "train_imgages = train_imgages.reshape(60000,28*28) # Reshape\n",
    "train_imgages = train_imgages.astype('float32')/255 # Normalize\n",
    "\n",
    "test_imgages = test_imgages.reshape(10000,28*28) # Reshape\n",
    "test_imgages = test_imgages.astype('float32')/255 # Normalize\n",
    "\n",
    "train_labels"
   ]
  },
  {
   "cell_type": "code",
   "execution_count": 15,
   "metadata": {},
   "outputs": [],
   "source": [
    "from keras.utils import to_categorical"
   ]
  },
  {
   "cell_type": "code",
   "execution_count": 16,
   "metadata": {},
   "outputs": [],
   "source": [
    "train_labels = to_categorical(train_labels)\n",
    "test_labels = to_categorical(test_labels)"
   ]
  },
  {
   "cell_type": "code",
   "execution_count": 17,
   "metadata": {},
   "outputs": [
    {
     "data": {
      "text/plain": [
       "array([[0., 0., 0., ..., 0., 0., 0.],\n",
       "       [1., 0., 0., ..., 0., 0., 0.],\n",
       "       [0., 0., 0., ..., 0., 0., 0.],\n",
       "       ...,\n",
       "       [0., 0., 0., ..., 0., 0., 0.],\n",
       "       [0., 0., 0., ..., 0., 0., 0.],\n",
       "       [0., 0., 0., ..., 0., 1., 0.]], dtype=float32)"
      ]
     },
     "execution_count": 17,
     "metadata": {},
     "output_type": "execute_result"
    }
   ],
   "source": [
    "\n",
    "train_labels"
   ]
  },
  {
   "cell_type": "code",
   "execution_count": 18,
   "metadata": {},
   "outputs": [
    {
     "data": {
      "text/plain": [
       "array([[0., 0., 0., ..., 1., 0., 0.],\n",
       "       [0., 0., 1., ..., 0., 0., 0.],\n",
       "       [0., 1., 0., ..., 0., 0., 0.],\n",
       "       ...,\n",
       "       [0., 0., 0., ..., 0., 0., 0.],\n",
       "       [0., 0., 0., ..., 0., 0., 0.],\n",
       "       [0., 0., 0., ..., 0., 0., 0.]], dtype=float32)"
      ]
     },
     "execution_count": 18,
     "metadata": {},
     "output_type": "execute_result"
    }
   ],
   "source": [
    "test_labels"
   ]
  },
  {
   "cell_type": "markdown",
   "metadata": {},
   "source": [
    "## 4. Train Model"
   ]
  },
  {
   "cell_type": "code",
   "execution_count": 19,
   "metadata": {
    "scrolled": true
   },
   "outputs": [
    {
     "name": "stdout",
     "output_type": "stream",
     "text": [
      "Train on 54000 samples, validate on 6000 samples\n",
      "Epoch 1/50\n",
      "54000/54000 [==============================] - 184s 3ms/step - loss: 0.2742 - acc: 0.9204 - val_loss: 0.1334 - val_acc: 0.9618\n",
      "Epoch 2/50\n",
      "54000/54000 [==============================] - 2s 37us/step - loss: 0.1134 - acc: 0.9667 - val_loss: 0.0830 - val_acc: 0.9752\n",
      "Epoch 3/50\n",
      "54000/54000 [==============================] - 2s 37us/step - loss: 0.0732 - acc: 0.9781 - val_loss: 0.0732 - val_acc: 0.9773\n",
      "Epoch 4/50\n",
      "54000/54000 [==============================] - 2s 35us/step - loss: 0.0532 - acc: 0.9839 - val_loss: 0.0654 - val_acc: 0.9805\n",
      "Epoch 5/50\n",
      "54000/54000 [==============================] - 2s 36us/step - loss: 0.0397 - acc: 0.9879 - val_loss: 0.0637 - val_acc: 0.9845\n",
      "Epoch 6/50\n",
      "54000/54000 [==============================] - 2s 35us/step - loss: 0.0300 - acc: 0.9913 - val_loss: 0.0654 - val_acc: 0.9822\n",
      "Epoch 7/50\n",
      "54000/54000 [==============================] - 2s 35us/step - loss: 0.0225 - acc: 0.9931 - val_loss: 0.0652 - val_acc: 0.9825\n",
      "Epoch 8/50\n",
      "54000/54000 [==============================] - 2s 35us/step - loss: 0.0176 - acc: 0.9946 - val_loss: 0.0689 - val_acc: 0.9823\n",
      "Epoch 9/50\n",
      "54000/54000 [==============================] - 2s 35us/step - loss: 0.0129 - acc: 0.9966 - val_loss: 0.0722 - val_acc: 0.9813\n",
      "Epoch 10/50\n",
      "54000/54000 [==============================] - 2s 34us/step - loss: 0.0099 - acc: 0.9973 - val_loss: 0.0766 - val_acc: 0.9823\n",
      "Epoch 11/50\n",
      "54000/54000 [==============================] - 2s 35us/step - loss: 0.0078 - acc: 0.9977 - val_loss: 0.0757 - val_acc: 0.9847\n",
      "Epoch 12/50\n",
      "54000/54000 [==============================] - 2s 35us/step - loss: 0.0060 - acc: 0.9984 - val_loss: 0.0727 - val_acc: 0.9843\n",
      "Epoch 13/50\n",
      "54000/54000 [==============================] - 2s 35us/step - loss: 0.0052 - acc: 0.9985 - val_loss: 0.0855 - val_acc: 0.9815\n",
      "Epoch 14/50\n",
      "54000/54000 [==============================] - 2s 35us/step - loss: 0.0035 - acc: 0.9989 - val_loss: 0.0797 - val_acc: 0.9850\n",
      "Epoch 15/50\n",
      "54000/54000 [==============================] - 2s 34us/step - loss: 0.0030 - acc: 0.9991 - val_loss: 0.0801 - val_acc: 0.9840\n",
      "Epoch 16/50\n",
      "54000/54000 [==============================] - 2s 34us/step - loss: 0.0023 - acc: 0.9993 - val_loss: 0.0810 - val_acc: 0.9842\n",
      "Epoch 17/50\n",
      "54000/54000 [==============================] - 2s 34us/step - loss: 0.0018 - acc: 0.9996 - val_loss: 0.0837 - val_acc: 0.9840\n",
      "Epoch 18/50\n",
      "54000/54000 [==============================] - 2s 34us/step - loss: 0.0013 - acc: 0.9997 - val_loss: 0.0846 - val_acc: 0.9843\n",
      "Epoch 19/50\n",
      "54000/54000 [==============================] - 2s 34us/step - loss: 0.0011 - acc: 0.9997 - val_loss: 0.1015 - val_acc: 0.9823\n",
      "Epoch 20/50\n",
      "54000/54000 [==============================] - 2s 36us/step - loss: 0.0011 - acc: 0.9997 - val_loss: 0.0962 - val_acc: 0.9832\n",
      "Epoch 21/50\n",
      "54000/54000 [==============================] - 2s 35us/step - loss: 7.5367e-04 - acc: 0.9998 - val_loss: 0.0910 - val_acc: 0.9828\n",
      "Epoch 22/50\n",
      "54000/54000 [==============================] - 2s 35us/step - loss: 5.3864e-04 - acc: 0.9999 - val_loss: 0.0989 - val_acc: 0.9847\n",
      "Epoch 23/50\n",
      "54000/54000 [==============================] - 2s 33us/step - loss: 5.2610e-04 - acc: 0.9999 - val_loss: 0.1052 - val_acc: 0.9837\n",
      "Epoch 24/50\n",
      "54000/54000 [==============================] - 2s 36us/step - loss: 4.7718e-04 - acc: 0.9999 - val_loss: 0.0959 - val_acc: 0.9857\n",
      "Epoch 25/50\n",
      "54000/54000 [==============================] - 2s 35us/step - loss: 3.6902e-04 - acc: 0.9999 - val_loss: 0.0919 - val_acc: 0.9855\n",
      "Epoch 26/50\n",
      "54000/54000 [==============================] - 2s 35us/step - loss: 2.0946e-04 - acc: 1.0000 - val_loss: 0.0949 - val_acc: 0.9848\n",
      "Epoch 27/50\n",
      "54000/54000 [==============================] - 2s 34us/step - loss: 2.2364e-04 - acc: 0.9999 - val_loss: 0.1037 - val_acc: 0.9847\n",
      "Epoch 28/50\n",
      "54000/54000 [==============================] - 2s 35us/step - loss: 1.7849e-04 - acc: 0.9999 - val_loss: 0.1012 - val_acc: 0.9848\n",
      "Epoch 29/50\n",
      "54000/54000 [==============================] - 2s 34us/step - loss: 1.4430e-04 - acc: 1.0000 - val_loss: 0.1001 - val_acc: 0.9858\n",
      "Epoch 30/50\n",
      "54000/54000 [==============================] - 2s 33us/step - loss: 1.3066e-04 - acc: 1.0000 - val_loss: 0.1089 - val_acc: 0.9835\n",
      "Epoch 31/50\n",
      "54000/54000 [==============================] - 2s 35us/step - loss: 5.1326e-05 - acc: 1.0000 - val_loss: 0.1082 - val_acc: 0.9845\n",
      "Epoch 32/50\n",
      "54000/54000 [==============================] - 2s 40us/step - loss: 7.9045e-05 - acc: 1.0000 - val_loss: 0.1060 - val_acc: 0.9845\n",
      "Epoch 33/50\n",
      "54000/54000 [==============================] - 2s 38us/step - loss: 2.8000e-05 - acc: 1.0000 - val_loss: 0.1121 - val_acc: 0.9842\n",
      "Epoch 34/50\n",
      "54000/54000 [==============================] - 2s 34us/step - loss: 2.1564e-04 - acc: 0.9999 - val_loss: 0.1065 - val_acc: 0.9847\n",
      "Epoch 35/50\n",
      "54000/54000 [==============================] - 2s 34us/step - loss: 1.6064e-05 - acc: 1.0000 - val_loss: 0.1145 - val_acc: 0.9835\n",
      "Epoch 36/50\n",
      "54000/54000 [==============================] - 2s 35us/step - loss: 3.1840e-05 - acc: 1.0000 - val_loss: 0.1048 - val_acc: 0.9845\n",
      "Epoch 37/50\n",
      "54000/54000 [==============================] - 2s 33us/step - loss: 7.2547e-06 - acc: 1.0000 - val_loss: 0.1036 - val_acc: 0.9855\n",
      "Epoch 38/50\n",
      "54000/54000 [==============================] - 2s 34us/step - loss: 1.0340e-05 - acc: 1.0000 - val_loss: 0.1095 - val_acc: 0.9860\n",
      "Epoch 39/50\n",
      "54000/54000 [==============================] - 2s 34us/step - loss: 4.0624e-05 - acc: 1.0000 - val_loss: 0.1220 - val_acc: 0.9830\n",
      "Epoch 40/50\n",
      "54000/54000 [==============================] - 2s 34us/step - loss: 3.5358e-06 - acc: 1.0000 - val_loss: 0.1136 - val_acc: 0.9838\n",
      "Epoch 41/50\n",
      "54000/54000 [==============================] - 2s 34us/step - loss: 1.0507e-05 - acc: 1.0000 - val_loss: 0.1109 - val_acc: 0.9848\n",
      "Epoch 42/50\n",
      "54000/54000 [==============================] - 2s 34us/step - loss: 4.6696e-07 - acc: 1.0000 - val_loss: 0.1180 - val_acc: 0.9845\n",
      "Epoch 43/50\n",
      "54000/54000 [==============================] - 2s 35us/step - loss: 3.0979e-07 - acc: 1.0000 - val_loss: 0.1107 - val_acc: 0.9862\n",
      "Epoch 44/50\n",
      "54000/54000 [==============================] - 2s 35us/step - loss: 3.2475e-07 - acc: 1.0000 - val_loss: 0.1106 - val_acc: 0.9860\n",
      "Epoch 45/50\n",
      "54000/54000 [==============================] - 2s 35us/step - loss: 1.5085e-07 - acc: 1.0000 - val_loss: 0.1111 - val_acc: 0.9863\n",
      "Epoch 46/50\n",
      "54000/54000 [==============================] - 2s 35us/step - loss: 1.3798e-07 - acc: 1.0000 - val_loss: 0.1108 - val_acc: 0.9863\n",
      "Epoch 47/50\n",
      "54000/54000 [==============================] - 2s 35us/step - loss: 1.3346e-07 - acc: 1.0000 - val_loss: 0.1109 - val_acc: 0.9862\n",
      "Epoch 48/50\n",
      "54000/54000 [==============================] - 2s 35us/step - loss: 1.3134e-07 - acc: 1.0000 - val_loss: 0.1104 - val_acc: 0.9863\n",
      "Epoch 49/50\n",
      "54000/54000 [==============================] - 2s 35us/step - loss: 1.2999e-07 - acc: 1.0000 - val_loss: 0.1108 - val_acc: 0.9862\n",
      "Epoch 50/50\n",
      "54000/54000 [==============================] - 2s 37us/step - loss: 1.2891e-07 - acc: 1.0000 - val_loss: 0.1105 - val_acc: 0.9862\n"
     ]
    }
   ],
   "source": [
    "history = network.fit(train_imgages,train_labels,epochs=50,batch_size=128,validation_split = 0.1)"
   ]
  },
  {
   "cell_type": "markdown",
   "metadata": {},
   "source": [
    "## 5. Evaluate Model"
   ]
  },
  {
   "cell_type": "code",
   "execution_count": 20,
   "metadata": {},
   "outputs": [
    {
     "name": "stdout",
     "output_type": "stream",
     "text": [
      "10000/10000 [==============================] - 0s 50us/step\n",
      "Test Loss: 0.12820553920066083\n",
      "Test Accuracy: 0.9838\n"
     ]
    }
   ],
   "source": [
    "test_loss, test_acc = network.evaluate(test_imgages, test_labels)\n",
    "print('Test Loss: %s\\nTest Accuracy: %s' % (test_loss,test_acc))"
   ]
  },
  {
   "cell_type": "code",
   "execution_count": null,
   "metadata": {},
   "outputs": [],
   "source": []
  }
 ],
 "metadata": {
  "kernelspec": {
   "display_name": "Python 3",
   "language": "python",
   "name": "python3"
  },
  "language_info": {
   "codemirror_mode": {
    "name": "ipython",
    "version": 3
   },
   "file_extension": ".py",
   "mimetype": "text/x-python",
   "name": "python",
   "nbconvert_exporter": "python",
   "pygments_lexer": "ipython3",
   "version": "3.5.6"
  }
 },
 "nbformat": 4,
 "nbformat_minor": 2
}

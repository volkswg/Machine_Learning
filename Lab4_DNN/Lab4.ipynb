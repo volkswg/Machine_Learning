{
 "cells": [
  {
   "cell_type": "markdown",
   "metadata": {},
   "source": [
    "# Lab4 - Training Deep Neural Network\n",
    "\n",
    "\n",
    "## Lab Instruction \n",
    "\n",
    "In this lab, you will learn to train a deep fully-connect neural network using Keras library with Tensorflow backend. We will use MNIST data which is a Keras build-in dataset. \n",
    "\n",
    "See http://yann.lecun.com/exdb/mnist\n",
    "\n",
    "**Note:**\n",
    "Before doing any machine learning/deep learning project, you have to think about the following thing:\n",
    "1. What is your problem and your data?\n",
    "- What type of problem do you want to solve? What is your data? What are you trying to predict? Does your data have enough information for your model to predict the expected output?\n",
    "\n",
    "2. How do you measure your success?\n",
    "- What do you mean by good model performance? How do you know that your model is ready to be deploy?\n",
    "- Accuracy? Precision and recall? profit gain? ROC AUC?\n",
    "\n",
    "3. What is your evaluation method?\n",
    "- Hold-out method? CV? Iterate CV?\n",
    "\n",
    "4. How to preprocess your data before fed into a model?\n",
    "\n",
    "5. What is your baseline? What is a model structure? how does your last layer look like? What is your loss function? What is your optimization function? \n",
    "\n",
    "6. Develop a overfit model to figure out how big a model you need by\n",
    "6.1 Add more layer\n",
    "6.2 Make layer bigger\n",
    "6.3 Train more epochs\n",
    "\n",
    "7. Tune your model to balance the model performance between underfit and overfit (optimization vs generalization)\n",
    "\n",
    "First, import all important library to this project."
   ]
  },
  {
   "cell_type": "code",
   "execution_count": 1,
   "metadata": {},
   "outputs": [
    {
     "name": "stderr",
     "output_type": "stream",
     "text": [
      "Using TensorFlow backend.\n"
     ]
    }
   ],
   "source": [
    "import numpy as np\n",
    "import matplotlib.pyplot as plt\n",
    "import keras\n",
    "from keras.datasets import mnist\n",
    "from keras.utils import to_categorical\n",
    "%matplotlib inline"
   ]
  },
  {
   "cell_type": "markdown",
   "metadata": {},
   "source": [
    "### 1. Load MNIST data"
   ]
  },
  {
   "cell_type": "code",
   "execution_count": 2,
   "metadata": {},
   "outputs": [],
   "source": [
    "### Load Data ###\n",
    "(train_images, train_labels), (test_images, test_labels) = mnist.load_data()"
   ]
  },
  {
   "cell_type": "markdown",
   "metadata": {},
   "source": [
    "Learn more about the data. For example:\n",
    "- The distribution of a target class. \n",
    "- The characteristic of the input data. How does it looklike? \n",
    "- etc."
   ]
  },
  {
   "cell_type": "code",
   "execution_count": 3,
   "metadata": {},
   "outputs": [
    {
     "data": {
      "text/plain": [
       "<matplotlib.image.AxesImage at 0x1fab3b81438>"
      ]
     },
     "execution_count": 3,
     "metadata": {},
     "output_type": "execute_result"
    },
    {
     "data": {
      "image/png": "[encoded data removed]",
      "text/plain": [
       "<Figure size 432x288 with 1 Axes>"
      ]
     },
     "metadata": {
      "needs_background": "light"
     },
     "output_type": "display_data"
    }
   ],
   "source": [
    "digit = train_images[3]\n",
    "plt.imshow(digit, cmap=plt.cm.binary)"
   ]
  },
  {
   "cell_type": "markdown",
   "metadata": {},
   "source": [
    "### 2. Preprocess a data"
   ]
  },
  {
   "cell_type": "code",
   "execution_count": 4,
   "metadata": {},
   "outputs": [],
   "source": [
    "#reshape + normalrize\n",
    "train_images = train_images.reshape(60000,28*28).astype('float32')/255\n",
    "test_images = test_images.reshape(10000,28*28).astype('float32')/255\n",
    "train_labels = to_categorical(train_labels)\n",
    "test_labels = to_categorical(test_labels)"
   ]
  },
  {
   "cell_type": "markdown",
   "metadata": {},
   "source": [
    "### 3. Build a model \n",
    "Using `Sequential()`, build a five-fully connect layer with 128 neuron each, *elu* as an activation function, and *he_initialier* as a weight initialier function. \n",
    "The output is a probability of each target class. We will use *Adam optimizer* with the *cross-entropy loss function*."
   ]
  },
  {
   "cell_type": "code",
   "execution_count": 5,
   "metadata": {},
   "outputs": [
    {
     "name": "stdout",
     "output_type": "stream",
     "text": [
      "_________________________________________________________________\n",
      "Layer (type)                 Output Shape              Param #   \n",
      "=================================================================\n",
      "dense_1 (Dense)              (None, 128)               100480    \n",
      "_________________________________________________________________\n",
      "dense_2 (Dense)              (None, 128)               16512     \n",
      "_________________________________________________________________\n",
      "dense_3 (Dense)              (None, 128)               16512     \n",
      "_________________________________________________________________\n",
      "dense_4 (Dense)              (None, 128)               16512     \n",
      "_________________________________________________________________\n",
      "dense_5 (Dense)              (None, 10)                1290      \n",
      "=================================================================\n",
      "Total params: 151,306\n",
      "Trainable params: 151,306\n",
      "Non-trainable params: 0\n",
      "_________________________________________________________________\n"
     ]
    }
   ],
   "source": [
    "from keras import models\n",
    "from keras import layers\n",
    "from keras import optimizers\n",
    "\n",
    "adam = optimizers.Adam()\n",
    "\n",
    "henormal = keras.initializers.he_normal(seed=None)\n",
    "network = models.Sequential()\n",
    "network.add(layers.Dense(128, activation='elu',kernel_initializer=henormal,input_shape=(28*28,)))\n",
    "network.add(layers.Dense(128, activation='elu',kernel_initializer=henormal))\n",
    "network.add(layers.Dense(128, activation='elu',kernel_initializer=henormal))\n",
    "network.add(layers.Dense(128, activation='elu',kernel_initializer=henormal))\n",
    "network.add(layers.Dense(10, activation='softmax',kernel_initializer=henormal))\n",
    "\n",
    "network.compile(optimizer=adam, loss='categorical_crossentropy', metrics=['accuracy'])\n",
    "network.summary()"
   ]
  },
  {
   "cell_type": "markdown",
   "metadata": {},
   "source": [
    "### 4. Train the model\n",
    "\n",
    "We will train a total of 10 epoch and a batch size of 128. \n",
    "\n",
    "To prevent an information leak to test set, which casue an overfit, we will split the data to train set, test set, and validation set. Doing so, we will split the training data into 90% train set and 10% validation set.\n",
    "\n",
    "Since keras `validation_split` argument split the last 10% of data to be validation set, the target class may not be equally distributed in validation set. Thus, we have to use `train_test_split`  from sklearn to split the data into train set and validation set. "
   ]
  },
  {
   "cell_type": "code",
   "execution_count": 6,
   "metadata": {},
   "outputs": [],
   "source": [
    "from sklearn.model_selection import train_test_split\n",
    "X_train, X_val, y_train, y_val = train_test_split(train_images, train_labels, test_size=0.1, random_state=42)"
   ]
  },
  {
   "cell_type": "code",
   "execution_count": 7,
   "metadata": {},
   "outputs": [
    {
     "name": "stdout",
     "output_type": "stream",
     "text": [
      "(60000, 784)\n",
      "(54000, 784)\n"
     ]
    }
   ],
   "source": [
    "print(train_images.shape)\n",
    "print(X_train.shape)"
   ]
  },
  {
   "cell_type": "code",
   "execution_count": 8,
   "metadata": {},
   "outputs": [
    {
     "name": "stdout",
     "output_type": "stream",
     "text": [
      "Train on 54000 samples, validate on 6000 samples\n",
      "Epoch 1/10\n",
      "54000/54000 [==============================] - 14s 260us/step - loss: 0.2757 - acc: 0.9157 - val_loss: 0.1407 - val_acc: 0.9562\n",
      "Epoch 2/10\n",
      "54000/54000 [==============================] - 2s 44us/step - loss: 0.1192 - acc: 0.9633 - val_loss: 0.0962 - val_acc: 0.9692\n",
      "Epoch 3/10\n",
      "54000/54000 [==============================] - 2s 39us/step - loss: 0.0873 - acc: 0.9726 - val_loss: 0.0908 - val_acc: 0.9702\n",
      "Epoch 4/10\n",
      "54000/54000 [==============================] - 2s 38us/step - loss: 0.0645 - acc: 0.9792 - val_loss: 0.0958 - val_acc: 0.9723\n",
      "Epoch 5/10\n",
      "54000/54000 [==============================] - 2s 39us/step - loss: 0.0526 - acc: 0.9828 - val_loss: 0.0875 - val_acc: 0.9738\n",
      "Epoch 6/10\n",
      "54000/54000 [==============================] - 2s 40us/step - loss: 0.0449 - acc: 0.9848 - val_loss: 0.0898 - val_acc: 0.9755\n",
      "Epoch 7/10\n",
      "54000/54000 [==============================] - 2s 45us/step - loss: 0.0382 - acc: 0.9876 - val_loss: 0.0746 - val_acc: 0.9772\n",
      "Epoch 8/10\n",
      "54000/54000 [==============================] - 2s 40us/step - loss: 0.0325 - acc: 0.9890 - val_loss: 0.0872 - val_acc: 0.9773\n",
      "Epoch 9/10\n",
      "54000/54000 [==============================] - 2s 39us/step - loss: 0.0283 - acc: 0.9905 - val_loss: 0.0722 - val_acc: 0.9803\n",
      "Epoch 10/10\n",
      "54000/54000 [==============================] - 2s 40us/step - loss: 0.0278 - acc: 0.9909 - val_loss: 0.0875 - val_acc: 0.9775\n"
     ]
    }
   ],
   "source": [
    "### Fit the model ### validatdata = valid train and test\n",
    "history = network.fit(X_train,y_train,epochs=10,batch_size=128,validation_data=(X_val,y_val))\n",
    "#####################"
   ]
  },
  {
   "cell_type": "markdown",
   "metadata": {},
   "source": [
    "### 5. Evalute the model\n",
    "\n",
    "Think of the metric that you want to evaluate/measure the performance of your model that can answer the following questions:\n",
    "- The model is overfit or underfit.\n",
    "- At which epoch/iteration that it converge or the model become overfit.\n",
    "- How does the model perform on each data class. What is an overall performace of your model?"
   ]
  },
  {
   "cell_type": "code",
   "execution_count": 11,
   "metadata": {},
   "outputs": [],
   "source": [
    "# The function argument is a record or history of the model during training process.\n",
    "def plot_loss_fn(history):\n",
    "    loss = history.history['loss']\n",
    "    val_loss = history.history['val_loss']\n",
    "\n",
    "    epochs = range(1, len(loss) + 1)\n",
    "\n",
    "    plt.plot(epochs, loss, 'bo', label='Training loss',color = 'red')\n",
    "    plt.plot(epochs, val_loss, 'b', label='Validation loss')\n",
    "    plt.title('Training and validation loss')\n",
    "    plt.xlabel('Epochs')\n",
    "    plt.ylabel('Loss')\n",
    "    plt.legend()\n",
    "    \n",
    "def plot_acc_fn(history):\n",
    "\n",
    "    acc = history.history['acc']\n",
    "    val_acc = history.history['val_acc']\n",
    "    \n",
    "    epochs = range(1, len(acc) + 1)\n",
    "\n",
    "    plt.plot(epochs, acc, 'bo', label='Training acc',color = 'red')\n",
    "    plt.plot(epochs, val_acc, 'b', label='Validation acc')\n",
    "    plt.title('Training and validation accuracy')\n",
    "    plt.xlabel('Epochs')\n",
    "    plt.ylabel('Loss')\n",
    "    plt.legend()"
   ]
  },
  {
   "cell_type": "code",
   "execution_count": 12,
   "metadata": {},
   "outputs": [
    {
     "data": {
      "image/png": "[encoded data removed]",
      "text/plain": [
       "<Figure size 1080x360 with 2 Axes>"
      ]
     },
     "metadata": {
      "needs_background": "light"
     },
     "output_type": "display_data"
    }
   ],
   "source": [
    "fig = plt.figure(figsize = (15,5))\n",
    "ax1 = fig.add_subplot(1,2,1)\n",
    "plot_loss_fn(history)\n",
    "ax2 = fig.add_subplot(1,2,2)\n",
    "plot_acc_fn(history)"
   ]
  },
  {
   "cell_type": "code",
   "execution_count": 15,
   "metadata": {},
   "outputs": [
    {
     "name": "stdout",
     "output_type": "stream",
     "text": [
      "10000/10000 [==============================] - 1s 54us/step\n",
      "Test Loss: 0.10220755595274968\n",
      "Test Accuracy: 0.9737\n"
     ]
    }
   ],
   "source": [
    "### Evaluate the model ###\n",
    "test_loss, test_acc = network.evaluate(test_images, test_labels)\n",
    "print('Test Loss: %s\\nTest Accuracy: %s' % (test_loss,test_acc))\n",
    "##########################"
   ]
  },
  {
   "cell_type": "code",
   "execution_count": 14,
   "metadata": {},
   "outputs": [],
   "source": [
    "#Save Model\n",
    "network.save('baseline.h5')"
   ]
  },
  {
   "cell_type": "code",
   "execution_count": 17,
   "metadata": {},
   "outputs": [],
   "source": [
    "# load Model\n",
    "from keras.models import load_model\n",
    "model_test = load_model('baseline.h5')"
   ]
  },
  {
   "cell_type": "code",
   "execution_count": 18,
   "metadata": {},
   "outputs": [
    {
     "name": "stdout",
     "output_type": "stream",
     "text": [
      "10000/10000 [==============================] - 1s 62us/step\n",
      "Test Loss: 0.10220755595274968\n",
      "Test Accuracy: 0.9737\n"
     ]
    }
   ],
   "source": [
    "test_loss, test_acc = model_test.evaluate(test_images, test_labels)\n",
    "print('Test Loss: %s\\nTest Accuracy: %s' % (test_loss,test_acc))"
   ]
  },
  {
   "cell_type": "code",
   "execution_count": 87,
   "metadata": {},
   "outputs": [
    {
     "name": "stdout",
     "output_type": "stream",
     "text": [
      "             precision    recall  f1-score   support\n",
      "\n",
      "          0       0.99      0.99      0.99      5923\n",
      "          1       1.00      0.98      0.99      6742\n",
      "          2       1.00      0.99      0.99      5958\n",
      "          3       0.99      0.99      0.99      6131\n",
      "          4       0.98      0.99      0.99      5842\n",
      "          5       0.98      0.99      0.99      5421\n",
      "          6       0.99      1.00      0.99      5918\n",
      "          7       0.98      0.99      0.99      6265\n",
      "          8       0.98      0.98      0.98      5851\n",
      "          9       0.99      0.97      0.98      5949\n",
      "\n",
      "avg / total       0.99      0.99      0.99     60000\n",
      "\n",
      "[[5869    0    0    3    0    9   10   27    3    2]\n",
      " [   0 6638    8    5    5    6    6   25   45    4]\n",
      " [  15    2 5870   18    0    2    2    8   37    4]\n",
      " [   2    0    2 6059    0   24    0    2   38    4]\n",
      " [   0    0    2    1 5811    0    7   13    1    7]\n",
      " [   2    0    1   13    3 5393    2    3    3    1]\n",
      " [   7    0    0    0    0    6 5896    1    8    0]\n",
      " [   0    0    5    3    3    1    0 6233    2   18]\n",
      " [   2    2    2   23    4   52   13    8 5738    7]\n",
      " [   6    0    1   13   78   12    2   50    8 5779]]\n"
     ]
    },
    {
     "data": {
      "image/png": "[encoded data removed]",
      "text/plain": [
       "<Figure size 432x288 with 2 Axes>"
      ]
     },
     "metadata": {
      "needs_background": "light"
     },
     "output_type": "display_data"
    }
   ],
   "source": [
    "from sklearn.metrics import classification_report, confusion_matrix\n",
    "import numpy as np\n",
    "y_pred = network.predict_classes(train_images)\n",
    "y_true = np.argmax(train_labels, axis=1)\n",
    "labels = [0,1,2,3,4,5,6,7,8,9,]\n",
    "\n",
    "cr = classification_report(y_true, y_pred)\n",
    "print(cr)\n",
    "cm = confusion_matrix(y_true, y_pred,labels)\n",
    "print(cm)\n",
    "\n",
    "fig = plt.figure()\n",
    "ax = fig.add_subplot(111)\n",
    "cax = ax.matshow(cm)\n",
    "plt.title('Confusion matrix')\n",
    "fig.colorbar(cax)\n",
    "# ax.set_xticklabels([''] + labels)\n",
    "# ax.set_yticklabels([''] + labels)\n",
    "plt.xlabel('Predicted')\n",
    "plt.ylabel('True')\n",
    "plt.show()"
   ]
  },
  {
   "cell_type": "markdown",
   "metadata": {},
   "source": [
    "### 6. Tune the model \n",
    "\n",
    "Try to tune your model by: \n",
    "1. Try Increasing epoch and see how it affect your model? Does the result better or it get overfit?\n",
    "2. Apply an early stop. What is the result do you get?\n",
    "4. Try adding regularizer l1 or l2 (or simutaneus l1, l2) to your model. How does it affect your model?\n",
    "5. Try to add dropout (any dropout rate) with every layer. How does it affect your model? Does it help reduce overfit?\n",
    "\n",
    "*Discuss the result from these step in the discssion section*\n",
    "\n",
    "After try above step, **try to achive the highest precision** by tuning the model using what you had aleady learn in the class.\n",
    "You can try to change the structure of the model by increase or decrease the layer and neuron node in each layer. (Use only fully-connect layer, don't use other type of layer yet!)\n",
    "\n",
    "You can also try to do a data augmentation.\n",
    "\n",
    "**The current highest precision of MNIST model is around 99.8%** ( Just try as must as possible, don't worry if you don't achieve this number of precision.)\n",
    "\n",
    "**Write  down what are you doing and why in each tuning step**"
   ]
  },
  {
   "cell_type": "code",
   "execution_count": 88,
   "metadata": {},
   "outputs": [
    {
     "name": "stdout",
     "output_type": "stream",
     "text": [
      "_________________________________________________________________\n",
      "Layer (type)                 Output Shape              Param #   \n",
      "=================================================================\n",
      "dense_6 (Dense)              (None, 128)               100480    \n",
      "_________________________________________________________________\n",
      "dense_7 (Dense)              (None, 128)               16512     \n",
      "_________________________________________________________________\n",
      "dense_8 (Dense)              (None, 128)               16512     \n",
      "_________________________________________________________________\n",
      "dense_9 (Dense)              (None, 128)               16512     \n",
      "_________________________________________________________________\n",
      "dense_10 (Dense)             (None, 10)                1290      \n",
      "=================================================================\n",
      "Total params: 151,306\n",
      "Trainable params: 151,306\n",
      "Non-trainable params: 0\n",
      "_________________________________________________________________\n"
     ]
    }
   ],
   "source": [
    "adam = optimizers.Adam()\n",
    "\n",
    "heinit = keras.initializers.he_normal(seed=None)\n",
    "networkTunning = models.Sequential()\n",
    "\n",
    "networkTunning.add(layers.Dense(128, activation='elu',kernel_initializer=heinit,input_shape=(28*28,)))\n",
    "networkTunning.add(layers.Dense(128, activation='elu',kernel_initializer=heinit))\n",
    "networkTunning.add(layers.Dense(128, activation='elu',kernel_initializer=heinit))\n",
    "networkTunning.add(layers.Dense(128, activation='elu',kernel_initializer=heinit))\n",
    "networkTunning.add(layers.Dense(10, activation='softmax'))\n",
    "\n",
    "networkTunning.compile(optimizer=adam, loss='categorical_crossentropy', metrics=['accuracy'])\n",
    "networkTunning.summary()\n"
   ]
  },
  {
   "cell_type": "markdown",
   "metadata": {},
   "source": [
    "## Increasing epoch"
   ]
  },
  {
   "cell_type": "code",
   "execution_count": 89,
   "metadata": {},
   "outputs": [
    {
     "name": "stdout",
     "output_type": "stream",
     "text": [
      "Train on 54000 samples, validate on 6000 samples\n",
      "Epoch 1/30\n",
      "54000/54000 [==============================] - 3s 55us/step - loss: 0.2690 - acc: 0.9196 - val_loss: 0.1408 - val_acc: 0.9555\n",
      "Epoch 2/30\n",
      "54000/54000 [==============================] - 2s 43us/step - loss: 0.1180 - acc: 0.9646 - val_loss: 0.1081 - val_acc: 0.9662\n",
      "Epoch 3/30\n",
      "54000/54000 [==============================] - 2s 42us/step - loss: 0.0860 - acc: 0.9728 - val_loss: 0.0894 - val_acc: 0.9732\n",
      "Epoch 4/30\n",
      "54000/54000 [==============================] - 2s 43us/step - loss: 0.0634 - acc: 0.9799 - val_loss: 0.1032 - val_acc: 0.9720\n",
      "Epoch 5/30\n",
      "54000/54000 [==============================] - 3s 48us/step - loss: 0.0518 - acc: 0.9830 - val_loss: 0.0958 - val_acc: 0.9727\n",
      "Epoch 6/30\n",
      "54000/54000 [==============================] - 2s 42us/step - loss: 0.0460 - acc: 0.9848 - val_loss: 0.0943 - val_acc: 0.9747\n",
      "Epoch 7/30\n",
      "54000/54000 [==============================] - 2s 42us/step - loss: 0.0374 - acc: 0.9871 - val_loss: 0.1019 - val_acc: 0.9708\n",
      "Epoch 8/30\n",
      "54000/54000 [==============================] - 2s 44us/step - loss: 0.0326 - acc: 0.9887 - val_loss: 0.0981 - val_acc: 0.9753\n",
      "Epoch 9/30\n",
      "54000/54000 [==============================] - 3s 49us/step - loss: 0.0256 - acc: 0.9911 - val_loss: 0.1077 - val_acc: 0.9730\n",
      "Epoch 10/30\n",
      "54000/54000 [==============================] - 2s 43us/step - loss: 0.0222 - acc: 0.9925 - val_loss: 0.0864 - val_acc: 0.9767\n",
      "Epoch 11/30\n",
      "54000/54000 [==============================] - 3s 47us/step - loss: 0.0224 - acc: 0.9922 - val_loss: 0.0846 - val_acc: 0.9795\n",
      "Epoch 12/30\n",
      "54000/54000 [==============================] - 2s 42us/step - loss: 0.0226 - acc: 0.9920 - val_loss: 0.0949 - val_acc: 0.9760\n",
      "Epoch 13/30\n",
      "54000/54000 [==============================] - 2s 42us/step - loss: 0.0235 - acc: 0.9921 - val_loss: 0.1013 - val_acc: 0.9758\n",
      "Epoch 14/30\n",
      "54000/54000 [==============================] - 3s 49us/step - loss: 0.0190 - acc: 0.9931 - val_loss: 0.0997 - val_acc: 0.9792\n",
      "Epoch 15/30\n",
      "54000/54000 [==============================] - 2s 41us/step - loss: 0.0116 - acc: 0.9961 - val_loss: 0.0976 - val_acc: 0.9787\n",
      "Epoch 16/30\n",
      "54000/54000 [==============================] - 2s 42us/step - loss: 0.0159 - acc: 0.9948 - val_loss: 0.0947 - val_acc: 0.9803\n",
      "Epoch 17/30\n",
      "54000/54000 [==============================] - 2s 43us/step - loss: 0.0172 - acc: 0.9943 - val_loss: 0.1139 - val_acc: 0.9787\n",
      "Epoch 18/30\n",
      "54000/54000 [==============================] - 3s 47us/step - loss: 0.0186 - acc: 0.9937 - val_loss: 0.1248 - val_acc: 0.9762\n",
      "Epoch 19/30\n",
      "54000/54000 [==============================] - 2s 43us/step - loss: 0.0139 - acc: 0.9956 - val_loss: 0.1130 - val_acc: 0.9773\n",
      "Epoch 20/30\n",
      "54000/54000 [==============================] - 2s 43us/step - loss: 0.0084 - acc: 0.9970 - val_loss: 0.0992 - val_acc: 0.9827\n",
      "Epoch 21/30\n",
      "54000/54000 [==============================] - 2s 43us/step - loss: 0.0152 - acc: 0.9952 - val_loss: 0.1218 - val_acc: 0.9762\n",
      "Epoch 22/30\n",
      "54000/54000 [==============================] - 3s 53us/step - loss: 0.0187 - acc: 0.9942 - val_loss: 0.1005 - val_acc: 0.9820\n",
      "Epoch 23/30\n",
      "54000/54000 [==============================] - 3s 52us/step - loss: 0.0123 - acc: 0.9960 - val_loss: 0.1006 - val_acc: 0.9793\n",
      "Epoch 24/30\n",
      "54000/54000 [==============================] - 2s 40us/step - loss: 0.0068 - acc: 0.9978 - val_loss: 0.1015 - val_acc: 0.9813\n",
      "Epoch 25/30\n",
      "54000/54000 [==============================] - 2s 43us/step - loss: 0.0066 - acc: 0.9979 - val_loss: 0.1027 - val_acc: 0.9823\n",
      "Epoch 26/30\n",
      "54000/54000 [==============================] - 2s 43us/step - loss: 0.0176 - acc: 0.9949 - val_loss: 0.1229 - val_acc: 0.9773\n",
      "Epoch 27/30\n",
      "54000/54000 [==============================] - 2s 39us/step - loss: 0.0111 - acc: 0.9963 - val_loss: 0.1234 - val_acc: 0.9798\n",
      "Epoch 28/30\n",
      "54000/54000 [==============================] - 3s 50us/step - loss: 0.0123 - acc: 0.9964 - val_loss: 0.1038 - val_acc: 0.9817\n",
      "Epoch 29/30\n",
      "54000/54000 [==============================] - 3s 48us/step - loss: 0.0102 - acc: 0.9967 - val_loss: 0.1175 - val_acc: 0.9802\n",
      "Epoch 30/30\n",
      "54000/54000 [==============================] - 2s 43us/step - loss: 0.0134 - acc: 0.9957 - val_loss: 0.1228 - val_acc: 0.9793\n"
     ]
    }
   ],
   "source": [
    "callback = keras.callbacks.EarlyStopping(\n",
    "    monitor='val_loss', \n",
    "#     min_delta=0, \n",
    "    patience=3, \n",
    "#     verbose=0, \n",
    "#     mode='auto', \n",
    "#     baseline=None\n",
    ")\n",
    "historyTunning = networkTunning.fit(X_train,y_train,epochs=30,batch_size=128,validation_data=(X_val,y_val))"
   ]
  },
  {
   "cell_type": "code",
   "execution_count": 100,
   "metadata": {},
   "outputs": [
    {
     "data": {
      "image/png": "[encoded data removed]",
      "text/plain": [
       "<Figure size 1080x360 with 2 Axes>"
      ]
     },
     "metadata": {
      "needs_background": "light"
     },
     "output_type": "display_data"
    }
   ],
   "source": [
    "fig = plt.figure(figsize = (15,5))\n",
    "ax1 = fig.add_subplot(1,2,1)\n",
    "plot_loss_fn(historyTunning)\n",
    "ax2 = fig.add_subplot(1,2,2)\n",
    "plot_acc_fn(historyTunning)"
   ]
  },
  {
   "cell_type": "code",
   "execution_count": 105,
   "metadata": {},
   "outputs": [
    {
     "name": "stdout",
     "output_type": "stream",
     "text": [
      "10000/10000 [==============================] - 1s 92us/step\n",
      "Test Loss: 0.13035913191752907\n",
      "Test Accuracy: 0.9763\n"
     ]
    }
   ],
   "source": [
    "### Evaluate the model ###\n",
    "test_loss, test_acc = networkTunning.evaluate(test_images, test_labels)\n",
    "print('Test Loss: %s\\nTest Accuracy: %s' % (test_loss,test_acc))\n",
    "##########################"
   ]
  },
  {
   "cell_type": "code",
   "execution_count": 106,
   "metadata": {},
   "outputs": [
    {
     "name": "stdout",
     "output_type": "stream",
     "text": [
      "             precision    recall  f1-score   support\n",
      "\n",
      "          0       1.00      1.00      1.00      5923\n",
      "          1       1.00      1.00      1.00      6742\n",
      "          2       1.00      1.00      1.00      5958\n",
      "          3       0.99      0.99      0.99      6131\n",
      "          4       0.99      1.00      1.00      5842\n",
      "          5       0.99      0.99      0.99      5421\n",
      "          6       1.00      1.00      1.00      5918\n",
      "          7       0.99      1.00      0.99      6265\n",
      "          8       0.99      0.99      0.99      5851\n",
      "          9       0.99      0.99      0.99      5949\n",
      "\n",
      "avg / total       1.00      1.00      1.00     60000\n",
      "\n",
      "[[5900    0    1    0    1    4    3    8    1    5]\n",
      " [   0 6718    0    3    4    0    2   12    2    1]\n",
      " [   0    2 5936    6    1    1    0    7    4    1]\n",
      " [   1    1    4 6086    0   23    0    1   13    2]\n",
      " [   0    0    1    0 5827    1    1    4    1    7]\n",
      " [   1    1    2    6    5 5386    6    3   11    0]\n",
      " [   2    0    1    0    6    3 5905    0    1    0]\n",
      " [   0    0    1    8    1    1    0 6247    0    7]\n",
      " [   2    7    3   16    2   15    4    1 5790   11]\n",
      " [   2    0    1    1   14    2    0   11    9 5909]]\n"
     ]
    },
    {
     "data": {
      "image/png": "[encoded data removed]",
      "text/plain": [
       "<Figure size 432x288 with 2 Axes>"
      ]
     },
     "metadata": {
      "needs_background": "light"
     },
     "output_type": "display_data"
    }
   ],
   "source": [
    "from sklearn.metrics import classification_report, confusion_matrix\n",
    "import numpy as np\n",
    "y_pred = networkTunning.predict_classes(train_images)\n",
    "y_true = np.argmax(train_labels, axis=1)\n",
    "labels = [0,1,2,3,4,5,6,7,8,9,]\n",
    "\n",
    "cr = classification_report(y_true, y_pred)\n",
    "print(cr)\n",
    "cm = confusion_matrix(y_true, y_pred,labels)\n",
    "print(cm)\n",
    "\n",
    "fig = plt.figure()\n",
    "ax = fig.add_subplot(111)\n",
    "cax = ax.matshow(cm)\n",
    "plt.title('Confusion matrix')\n",
    "fig.colorbar(cax)\n",
    "# ax.set_xticklabels([''] + labels)\n",
    "# ax.set_yticklabels([''] + labels)\n",
    "plt.xlabel('Predicted')\n",
    "plt.ylabel('True')\n",
    "plt.show()"
   ]
  },
  {
   "cell_type": "markdown",
   "metadata": {},
   "source": [
    "## Apply EarlyStopping"
   ]
  },
  {
   "cell_type": "code",
   "execution_count": 38,
   "metadata": {},
   "outputs": [
    {
     "name": "stdout",
     "output_type": "stream",
     "text": [
      "Train on 54000 samples, validate on 6000 samples\n",
      "Epoch 1/50\n",
      "54000/54000 [==============================] - 3s 57us/step - loss: 0.2765 - acc: 0.9167 - val_loss: 0.1348 - val_acc: 0.9607\n",
      "Epoch 2/50\n",
      "54000/54000 [==============================] - 3s 47us/step - loss: 0.1289 - acc: 0.9605 - val_loss: 0.1093 - val_acc: 0.9663\n",
      "Epoch 3/50\n",
      "54000/54000 [==============================] - 3s 47us/step - loss: 0.0909 - acc: 0.9711 - val_loss: 0.0848 - val_acc: 0.9745\n",
      "Epoch 4/50\n",
      "54000/54000 [==============================] - 3s 47us/step - loss: 0.0723 - acc: 0.9769 - val_loss: 0.0892 - val_acc: 0.9725\n",
      "Epoch 5/50\n",
      "54000/54000 [==============================] - 3s 47us/step - loss: 0.0574 - acc: 0.9812 - val_loss: 0.0793 - val_acc: 0.9760\n",
      "Epoch 6/50\n",
      "54000/54000 [==============================] - 3s 47us/step - loss: 0.0482 - acc: 0.9842 - val_loss: 0.0752 - val_acc: 0.9783\n",
      "Epoch 7/50\n",
      "54000/54000 [==============================] - 3s 47us/step - loss: 0.0384 - acc: 0.9876 - val_loss: 0.0697 - val_acc: 0.9800\n",
      "Epoch 8/50\n",
      "54000/54000 [==============================] - 3s 47us/step - loss: 0.0327 - acc: 0.9890 - val_loss: 0.0805 - val_acc: 0.9770\n",
      "Epoch 9/50\n",
      "54000/54000 [==============================] - 3s 47us/step - loss: 0.0336 - acc: 0.9879 - val_loss: 0.0806 - val_acc: 0.9788\n",
      "Epoch 10/50\n",
      "54000/54000 [==============================] - 3s 47us/step - loss: 0.0258 - acc: 0.9916 - val_loss: 0.0889 - val_acc: 0.9797\n"
     ]
    }
   ],
   "source": [
    "callback = keras.callbacks.EarlyStopping(\n",
    "    monitor='val_loss', \n",
    "    patience=3, \n",
    ")\n",
    "historyTunning = networkTunning.fit(X_train,y_train,epochs=50,batch_size=128,validation_data=(X_val,y_val),callbacks=[callback])"
   ]
  },
  {
   "cell_type": "code",
   "execution_count": 39,
   "metadata": {},
   "outputs": [
    {
     "data": {
      "image/png": "[encoded data removed]",
      "text/plain": [
       "<Figure size 432x288 with 1 Axes>"
      ]
     },
     "metadata": {},
     "output_type": "display_data"
    }
   ],
   "source": [
    "plot_loss_fn(historyTunning)"
   ]
  },
  {
   "cell_type": "code",
   "execution_count": 40,
   "metadata": {},
   "outputs": [
    {
     "data": {
      "image/png": "[encoded data removed]",
      "text/plain": [
       "<Figure size 432x288 with 1 Axes>"
      ]
     },
     "metadata": {},
     "output_type": "display_data"
    }
   ],
   "source": [
    "plot_acc_fn(historyTunning)"
   ]
  },
  {
   "cell_type": "code",
   "execution_count": 41,
   "metadata": {},
   "outputs": [
    {
     "name": "stdout",
     "output_type": "stream",
     "text": [
      "10000/10000 [==============================] - 0s 50us/step\n",
      "Test Loss: 0.0871961794515\n",
      "Test Accuracy: 0.9751\n"
     ]
    }
   ],
   "source": [
    "### Evaluate the model ###\n",
    "test_loss, test_acc = networkTunning.evaluate(test_images, test_labels)\n",
    "print('Test Loss: %s\\nTest Accuracy: %s' % (test_loss,test_acc))\n",
    "##########################"
   ]
  },
  {
   "cell_type": "markdown",
   "metadata": {},
   "source": [
    "## Add regularizer "
   ]
  },
  {
   "cell_type": "code",
   "execution_count": 25,
   "metadata": {},
   "outputs": [
    {
     "name": "stdout",
     "output_type": "stream",
     "text": [
      "_________________________________________________________________\n",
      "Layer (type)                 Output Shape              Param #   \n",
      "=================================================================\n",
      "dense_11 (Dense)             (None, 128)               100480    \n",
      "_________________________________________________________________\n",
      "dense_12 (Dense)             (None, 128)               16512     \n",
      "_________________________________________________________________\n",
      "dense_13 (Dense)             (None, 128)               16512     \n",
      "_________________________________________________________________\n",
      "dense_14 (Dense)             (None, 128)               16512     \n",
      "_________________________________________________________________\n",
      "dense_15 (Dense)             (None, 10)                1290      \n",
      "=================================================================\n",
      "Total params: 151,306\n",
      "Trainable params: 151,306\n",
      "Non-trainable params: 0\n",
      "_________________________________________________________________\n"
     ]
    }
   ],
   "source": [
    "from keras import regularizers\n",
    "adam = optimizers.Adam()\n",
    "\n",
    "heinit = keras.initializers.he_normal(seed=None)\n",
    "networkTunning = models.Sequential()\n",
    "\n",
    "networkTunning.add(layers.Dense(128, activation='elu',kernel_initializer=heinit,kernel_regularizer=regularizers.l2(0.001),input_shape=(28*28,)))\n",
    "networkTunning.add(layers.Dense(128, activation='elu',kernel_initializer=heinit,kernel_regularizer=regularizers.l2(0.001)))\n",
    "networkTunning.add(layers.Dense(128, activation='elu',kernel_initializer=heinit,kernel_regularizer=regularizers.l2(0.001)))\n",
    "networkTunning.add(layers.Dense(128, activation='elu',kernel_initializer=heinit,kernel_regularizer=regularizers.l2(0.001)))\n",
    "networkTunning.add(layers.Dense(10, activation='softmax'))\n",
    "\n",
    "networkTunning.compile(optimizer=adam, loss='categorical_crossentropy', metrics=['accuracy'])\n",
    "networkTunning.summary()\n"
   ]
  },
  {
   "cell_type": "code",
   "execution_count": 26,
   "metadata": {},
   "outputs": [
    {
     "name": "stdout",
     "output_type": "stream",
     "text": [
      "Train on 54000 samples, validate on 6000 samples\n",
      "Epoch 1/50\n",
      "54000/54000 [==============================] - 3s 60us/step - loss: 0.8989 - acc: 0.9072 - val_loss: 0.6257 - val_acc: 0.9485\n",
      "Epoch 2/50\n",
      "54000/54000 [==============================] - 3s 50us/step - loss: 0.5250 - acc: 0.9511 - val_loss: 0.4334 - val_acc: 0.9563\n",
      "Epoch 3/50\n",
      "54000/54000 [==============================] - 3s 50us/step - loss: 0.3880 - acc: 0.9576 - val_loss: 0.3495 - val_acc: 0.9583\n",
      "Epoch 4/50\n",
      "54000/54000 [==============================] - 3s 50us/step - loss: 0.3213 - acc: 0.9603 - val_loss: 0.2890 - val_acc: 0.9632\n",
      "Epoch 5/50\n",
      "54000/54000 [==============================] - 3s 50us/step - loss: 0.2795 - acc: 0.9631 - val_loss: 0.2846 - val_acc: 0.9605\n",
      "Epoch 6/50\n",
      "54000/54000 [==============================] - 3s 50us/step - loss: 0.2579 - acc: 0.9643 - val_loss: 0.2579 - val_acc: 0.9638\n",
      "Epoch 7/50\n",
      "54000/54000 [==============================] - 3s 51us/step - loss: 0.2432 - acc: 0.9658 - val_loss: 0.2308 - val_acc: 0.9687\n",
      "Epoch 8/50\n",
      "54000/54000 [==============================] - 3s 51us/step - loss: 0.2310 - acc: 0.9681 - val_loss: 0.2461 - val_acc: 0.9605\n",
      "Epoch 9/50\n",
      "54000/54000 [==============================] - 3s 51us/step - loss: 0.2255 - acc: 0.9673 - val_loss: 0.2270 - val_acc: 0.9663\n",
      "Epoch 10/50\n",
      "54000/54000 [==============================] - 3s 52us/step - loss: 0.2169 - acc: 0.9694 - val_loss: 0.2137 - val_acc: 0.9728\n",
      "Epoch 11/50\n",
      "54000/54000 [==============================] - 3s 51us/step - loss: 0.2100 - acc: 0.9707 - val_loss: 0.2178 - val_acc: 0.9697\n",
      "Epoch 12/50\n",
      "54000/54000 [==============================] - 3s 50us/step - loss: 0.2014 - acc: 0.9720 - val_loss: 0.2086 - val_acc: 0.9705\n",
      "Epoch 13/50\n",
      "54000/54000 [==============================] - 3s 50us/step - loss: 0.2010 - acc: 0.9708 - val_loss: 0.2149 - val_acc: 0.9688\n",
      "Epoch 14/50\n",
      "54000/54000 [==============================] - 3s 50us/step - loss: 0.1960 - acc: 0.9719 - val_loss: 0.2067 - val_acc: 0.9697\n",
      "Epoch 15/50\n",
      "54000/54000 [==============================] - 3s 50us/step - loss: 0.1889 - acc: 0.9741 - val_loss: 0.1992 - val_acc: 0.9707\n",
      "Epoch 16/50\n",
      "54000/54000 [==============================] - 3s 50us/step - loss: 0.1882 - acc: 0.9733 - val_loss: 0.1927 - val_acc: 0.9728\n",
      "Epoch 17/50\n",
      "54000/54000 [==============================] - 3s 50us/step - loss: 0.1802 - acc: 0.9761 - val_loss: 0.2034 - val_acc: 0.9675\n",
      "Epoch 18/50\n",
      "54000/54000 [==============================] - 3s 50us/step - loss: 0.1795 - acc: 0.9752 - val_loss: 0.1942 - val_acc: 0.9723\n",
      "Epoch 19/50\n",
      "54000/54000 [==============================] - 3s 50us/step - loss: 0.1771 - acc: 0.9749 - val_loss: 0.1847 - val_acc: 0.9722\n",
      "Epoch 20/50\n",
      "54000/54000 [==============================] - 3s 50us/step - loss: 0.1743 - acc: 0.9755 - val_loss: 0.2044 - val_acc: 0.9663\n",
      "Epoch 21/50\n",
      "54000/54000 [==============================] - 3s 50us/step - loss: 0.1726 - acc: 0.9760 - val_loss: 0.1921 - val_acc: 0.9688\n",
      "Epoch 22/50\n",
      "54000/54000 [==============================] - 3s 50us/step - loss: 0.1705 - acc: 0.9762 - val_loss: 0.1780 - val_acc: 0.9752\n",
      "Epoch 23/50\n",
      "54000/54000 [==============================] - 3s 50us/step - loss: 0.1693 - acc: 0.9766 - val_loss: 0.1810 - val_acc: 0.9738\n",
      "Epoch 24/50\n",
      "54000/54000 [==============================] - 3s 50us/step - loss: 0.1647 - acc: 0.9778 - val_loss: 0.1851 - val_acc: 0.9727\n",
      "Epoch 25/50\n",
      "54000/54000 [==============================] - 3s 50us/step - loss: 0.1633 - acc: 0.9779 - val_loss: 0.1782 - val_acc: 0.9730\n"
     ]
    }
   ],
   "source": [
    "callback = keras.callbacks.EarlyStopping(\n",
    "    monitor='val_loss', \n",
    "    patience=3, \n",
    ")\n",
    "historyTunning = networkTunning.fit(X_train,y_train,epochs=50,batch_size=128,validation_data=(X_val,y_val),callbacks=[callback])"
   ]
  },
  {
   "cell_type": "code",
   "execution_count": 27,
   "metadata": {},
   "outputs": [
    {
     "data": {
      "image/png": "[encoded data removed]",
      "text/plain": [
       "<Figure size 432x288 with 1 Axes>"
      ]
     },
     "metadata": {},
     "output_type": "display_data"
    }
   ],
   "source": [
    "plot_loss_fn(historyTunning)"
   ]
  },
  {
   "cell_type": "code",
   "execution_count": 28,
   "metadata": {},
   "outputs": [
    {
     "data": {
      "image/png": "[encoded data removed]",
      "text/plain": [
       "<Figure size 432x288 with 1 Axes>"
      ]
     },
     "metadata": {},
     "output_type": "display_data"
    }
   ],
   "source": [
    "plot_acc_fn(historyTunning)"
   ]
  },
  {
   "cell_type": "code",
   "execution_count": 29,
   "metadata": {},
   "outputs": [
    {
     "name": "stdout",
     "output_type": "stream",
     "text": [
      "             precision    recall  f1-score   support\n",
      "\n",
      "          0       0.99      0.99      0.99      5923\n",
      "          1       0.98      0.99      0.98      6742\n",
      "          2       0.98      0.98      0.98      5958\n",
      "          3       0.97      0.98      0.97      6131\n",
      "          4       0.98      0.98      0.98      5842\n",
      "          5       0.98      0.97      0.98      5421\n",
      "          6       0.98      0.99      0.98      5918\n",
      "          7       0.98      0.98      0.98      6265\n",
      "          8       0.98      0.98      0.98      5851\n",
      "          9       0.98      0.96      0.97      5949\n",
      "\n",
      "avg / total       0.98      0.98      0.98     60000\n",
      "\n",
      "[[5856    3    9    2    3   15   15    2   13    5]\n",
      " [   0 6646   37   35    2    0    8    8    4    2]\n",
      " [   5   16 5849   17   25    0   24   13    6    3]\n",
      " [   6    3   44 5981    0   16    0   24   35   22]\n",
      " [   2   27    3    0 5711    1   46    7    0   45]\n",
      " [   8    4    5   84    2 5270   24    1   18    5]\n",
      " [  13    6    0    0    1   18 5869    0   11    0]\n",
      " [   3   39   39    4    7    2    1 6162    0    8]\n",
      " [   4   40    9   16    6   10   26    3 5730    7]\n",
      " [  19    9    3   29   55   24    2   59   13 5736]]\n"
     ]
    },
    {
     "data": {
      "image/png": "[encoded data removed]",
      "text/plain": [
       "<Figure size 432x288 with 2 Axes>"
      ]
     },
     "metadata": {},
     "output_type": "display_data"
    }
   ],
   "source": [
    "from sklearn.metrics import classification_report, confusion_matrix\n",
    "import numpy as np\n",
    "y_pred = networkTunning.predict_classes(train_images)\n",
    "y_true = np.argmax(train_labels, axis=1)\n",
    "labels = [0,1,2,3,4,5,6,7,8,9,]\n",
    "\n",
    "cr = classification_report(y_true, y_pred)\n",
    "print(cr)\n",
    "cm = confusion_matrix(y_true, y_pred,labels)\n",
    "print(cm)\n",
    "\n",
    "fig = plt.figure()\n",
    "ax = fig.add_subplot(111)\n",
    "cax = ax.matshow(cm)\n",
    "plt.title('Confusion matrix')\n",
    "fig.colorbar(cax)\n",
    "# ax.set_xticklabels([''] + labels)\n",
    "# ax.set_yticklabels([''] + labels)\n",
    "plt.xlabel('Predicted')\n",
    "plt.ylabel('True')\n",
    "plt.show()"
   ]
  },
  {
   "cell_type": "code",
   "execution_count": 30,
   "metadata": {},
   "outputs": [
    {
     "name": "stdout",
     "output_type": "stream",
     "text": [
      "10000/10000 [==============================] - 1s 61us/step\n",
      "Test Loss: 0.178021702719\n",
      "Test Accuracy: 0.9744\n"
     ]
    }
   ],
   "source": [
    "### Evaluate the model ###\n",
    "test_loss, test_acc = networkTunning.evaluate(test_images, test_labels)\n",
    "print('Test Loss: %s\\nTest Accuracy: %s' % (test_loss,test_acc))\n",
    "##########################"
   ]
  },
  {
   "cell_type": "markdown",
   "metadata": {},
   "source": [
    "## Add Dropout"
   ]
  },
  {
   "cell_type": "code",
   "execution_count": 31,
   "metadata": {},
   "outputs": [],
   "source": [
    "from keras import regularizers\n",
    "adam = optimizers.Adam()\n",
    "\n",
    "heinit = keras.initializers.he_normal(seed=None)\n",
    "networkTunning = models.Sequential()\n",
    "\n",
    "networkTunning.add(layers.Dense(128, activation='elu',kernel_initializer=heinit,kernel_regularizer=regularizers.l2(0.01),input_shape=(28*28,)))\n",
    "\n",
    "networkTunning.add(layers.Dropout(0.2))\n",
    "networkTunning.add(layers.Dense(128, activation='elu',kernel_initializer=heinit,kernel_regularizer=regularizers.l2(0.01)))\n",
    "networkTunning.add(layers.Dropout(0.2))\n",
    "networkTunning.add(layers.Dense(128, activation='elu',kernel_initializer=heinit,kernel_regularizer=regularizers.l2(0.01)))\n",
    "networkTunning.add(layers.Dense(128, activation='elu',kernel_initializer=heinit,kernel_regularizer=regularizers.l2(0.01)))\n",
    "networkTunning.add(layers.Dense(10, activation='softmax'))\n",
    "\n",
    "networkTunning.compile(optimizer=adam, loss='categorical_crossentropy', metrics=['accuracy'])\n",
    "# networkTunning.summary()\n"
   ]
  },
  {
   "cell_type": "code",
   "execution_count": 32,
   "metadata": {},
   "outputs": [
    {
     "name": "stdout",
     "output_type": "stream",
     "text": [
      "Train on 54000 samples, validate on 6000 samples\n",
      "Epoch 1/20\n",
      "54000/54000 [==============================] - 4s 68us/step - loss: 2.5554 - acc: 0.8657 - val_loss: 0.8159 - val_acc: 0.9047\n",
      "Epoch 2/20\n",
      "54000/54000 [==============================] - 3s 56us/step - loss: 0.7677 - acc: 0.8865 - val_loss: 0.6890 - val_acc: 0.8987\n",
      "Epoch 3/20\n",
      "54000/54000 [==============================] - 3s 56us/step - loss: 0.7035 - acc: 0.8890 - val_loss: 0.6568 - val_acc: 0.9023\n",
      "Epoch 4/20\n",
      "54000/54000 [==============================] - 3s 56us/step - loss: 0.6759 - acc: 0.8928 - val_loss: 0.6650 - val_acc: 0.8892\n",
      "Epoch 5/20\n",
      "54000/54000 [==============================] - 3s 57us/step - loss: 0.6580 - acc: 0.8932 - val_loss: 0.6139 - val_acc: 0.9068\n",
      "Epoch 6/20\n",
      "54000/54000 [==============================] - 3s 56us/step - loss: 0.6438 - acc: 0.8958 - val_loss: 0.5848 - val_acc: 0.9137\n",
      "Epoch 7/20\n",
      "54000/54000 [==============================] - 3s 56us/step - loss: 0.6295 - acc: 0.8973 - val_loss: 0.6042 - val_acc: 0.9028\n",
      "Epoch 8/20\n",
      "54000/54000 [==============================] - 3s 56us/step - loss: 0.6156 - acc: 0.8991 - val_loss: 0.5686 - val_acc: 0.9132\n",
      "Epoch 9/20\n",
      "54000/54000 [==============================] - 3s 56us/step - loss: 0.6075 - acc: 0.8999 - val_loss: 0.5651 - val_acc: 0.9128\n",
      "Epoch 10/20\n",
      "54000/54000 [==============================] - 3s 56us/step - loss: 0.6005 - acc: 0.9012 - val_loss: 0.5556 - val_acc: 0.9100\n",
      "Epoch 11/20\n",
      "54000/54000 [==============================] - 3s 56us/step - loss: 0.5908 - acc: 0.9013 - val_loss: 0.5407 - val_acc: 0.9160\n",
      "Epoch 12/20\n",
      "54000/54000 [==============================] - 3s 56us/step - loss: 0.5839 - acc: 0.9009 - val_loss: 0.5471 - val_acc: 0.9128\n",
      "Epoch 13/20\n",
      "54000/54000 [==============================] - 3s 58us/step - loss: 0.5729 - acc: 0.9051 - val_loss: 0.5299 - val_acc: 0.9133\n",
      "Epoch 14/20\n",
      "54000/54000 [==============================] - 3s 57us/step - loss: 0.5711 - acc: 0.9022 - val_loss: 0.5364 - val_acc: 0.9162\n",
      "Epoch 15/20\n",
      "54000/54000 [==============================] - 3s 57us/step - loss: 0.5641 - acc: 0.9040 - val_loss: 0.5204 - val_acc: 0.9182\n",
      "Epoch 16/20\n",
      "54000/54000 [==============================] - 3s 56us/step - loss: 0.5607 - acc: 0.9046 - val_loss: 0.5177 - val_acc: 0.9117\n",
      "Epoch 17/20\n",
      "54000/54000 [==============================] - 3s 56us/step - loss: 0.5565 - acc: 0.9047 - val_loss: 0.5191 - val_acc: 0.9157\n",
      "Epoch 18/20\n",
      "54000/54000 [==============================] - 3s 56us/step - loss: 0.5511 - acc: 0.9050 - val_loss: 0.5188 - val_acc: 0.9168\n",
      "Epoch 19/20\n",
      "54000/54000 [==============================] - 3s 56us/step - loss: 0.5478 - acc: 0.9062 - val_loss: 0.5023 - val_acc: 0.9240\n",
      "Epoch 20/20\n",
      "54000/54000 [==============================] - 3s 56us/step - loss: 0.5474 - acc: 0.9052 - val_loss: 0.5194 - val_acc: 0.9140\n"
     ]
    }
   ],
   "source": [
    "callback = keras.callbacks.EarlyStopping(\n",
    "    monitor='val_loss', \n",
    "    patience=3, \n",
    ")\n",
    "historyTunning = networkTunning.fit(X_train,y_train,epochs=20,batch_size=128,validation_data=(X_val,y_val),callbacks=[callback])"
   ]
  },
  {
   "cell_type": "code",
   "execution_count": 33,
   "metadata": {},
   "outputs": [
    {
     "data": {
      "image/png": "[encoded data removed]",
      "text/plain": [
       "<Figure size 432x288 with 1 Axes>"
      ]
     },
     "metadata": {},
     "output_type": "display_data"
    }
   ],
   "source": [
    "plot_loss_fn(historyTunning)"
   ]
  },
  {
   "cell_type": "code",
   "execution_count": 34,
   "metadata": {},
   "outputs": [
    {
     "data": {
      "image/png": "[encoded data removed]",
      "text/plain": [
       "<Figure size 432x288 with 1 Axes>"
      ]
     },
     "metadata": {},
     "output_type": "display_data"
    }
   ],
   "source": [
    "plot_acc_fn(historyTunning)"
   ]
  },
  {
   "cell_type": "code",
   "execution_count": 35,
   "metadata": {},
   "outputs": [
    {
     "name": "stdout",
     "output_type": "stream",
     "text": [
      "10000/10000 [==============================] - 1s 64us/step\n",
      "Test Loss: 0.510318048859\n",
      "Test Accuracy: 0.9146\n"
     ]
    }
   ],
   "source": [
    "### Evaluate the model ###\n",
    "test_loss, test_acc = networkTunning.evaluate(test_images, test_labels)\n",
    "print('Test Loss: %s\\nTest Accuracy: %s' % (test_loss,test_acc))\n",
    "##########################"
   ]
  },
  {
   "cell_type": "code",
   "execution_count": 36,
   "metadata": {},
   "outputs": [
    {
     "name": "stdout",
     "output_type": "stream",
     "text": [
      "             precision    recall  f1-score   support\n",
      "\n",
      "          0       0.96      0.96      0.96      5923\n",
      "          1       0.95      0.97      0.96      6742\n",
      "          2       0.92      0.89      0.90      5958\n",
      "          3       0.97      0.80      0.87      6131\n",
      "          4       0.88      0.91      0.90      5842\n",
      "          5       0.89      0.85      0.87      5421\n",
      "          6       0.95      0.93      0.94      5918\n",
      "          7       0.94      0.94      0.94      6265\n",
      "          8       0.82      0.93      0.87      5851\n",
      "          9       0.86      0.93      0.89      5949\n",
      "\n",
      "avg / total       0.91      0.91      0.91     60000\n",
      "\n",
      "[[5669    0   16    6   24   38   29   24   78   39]\n",
      " [   0 6514   33    7    8   25    7    8  112   28]\n",
      " [  31   64 5298   37  156    7   50  106  187   22]\n",
      " [  24   55  237 4893    7  368   26   78  357   86]\n",
      " [   8   18   10    0 5342    1   23   12   35  393]\n",
      " [  75   34   41   69   73 4599  128   33  300   69]\n",
      " [  48   21   33    0  254   37 5477    0   43    5]\n",
      " [  11   62   33   13   38    9    1 5904   19  175]\n",
      " [  21   94   49   17   41   36   46   12 5443   92]\n",
      " [  32   17    2   16  136   22    4   98   73 5549]]\n"
     ]
    },
    {
     "data": {
      "image/png": "[encoded data removed]",
      "text/plain": [
       "<Figure size 432x288 with 2 Axes>"
      ]
     },
     "metadata": {},
     "output_type": "display_data"
    }
   ],
   "source": [
    "from sklearn.metrics import classification_report, confusion_matrix\n",
    "import numpy as np\n",
    "y_pred = networkTunning.predict_classes(train_images)\n",
    "y_true = np.argmax(train_labels, axis=1)\n",
    "labels = [0,1,2,3,4,5,6,7,8,9,]\n",
    "\n",
    "cr = classification_report(y_true, y_pred)\n",
    "print(cr)\n",
    "cm = confusion_matrix(y_true, y_pred,labels)\n",
    "print(cm)\n",
    "\n",
    "fig = plt.figure()\n",
    "ax = fig.add_subplot(111)\n",
    "cax = ax.matshow(cm)\n",
    "plt.title('Confusion matrix')\n",
    "fig.colorbar(cax)\n",
    "# ax.set_xticklabels([''] + labels)\n",
    "# ax.set_yticklabels([''] + labels)\n",
    "plt.xlabel('Predicted')\n",
    "plt.ylabel('True')\n",
    "plt.show()"
   ]
  },
  {
   "cell_type": "markdown",
   "metadata": {},
   "source": [
    "# god level"
   ]
  },
  {
   "cell_type": "code",
   "execution_count": 100,
   "metadata": {},
   "outputs": [],
   "source": [
    "from keras import models\n",
    "from keras import layers\n",
    "from keras import optimizers\n",
    "from keras import regularizers"
   ]
  },
  {
   "cell_type": "code",
   "execution_count": 102,
   "metadata": {},
   "outputs": [
    {
     "name": "stdout",
     "output_type": "stream",
     "text": [
      "_________________________________________________________________\n",
      "Layer (type)                 Output Shape              Param #   \n",
      "=================================================================\n",
      "dense_48 (Dense)             (None, 784)               615440    \n",
      "_________________________________________________________________\n",
      "dense_49 (Dense)             (None, 784)               615440    \n",
      "_________________________________________________________________\n",
      "dense_50 (Dense)             (None, 784)               615440    \n",
      "_________________________________________________________________\n",
      "dense_51 (Dense)             (None, 784)               615440    \n",
      "_________________________________________________________________\n",
      "dense_52 (Dense)             (None, 784)               615440    \n",
      "_________________________________________________________________\n",
      "dense_53 (Dense)             (None, 784)               615440    \n",
      "_________________________________________________________________\n",
      "dense_54 (Dense)             (None, 10)                7850      \n",
      "=================================================================\n",
      "Total params: 3,700,490\n",
      "Trainable params: 3,700,490\n",
      "Non-trainable params: 0\n",
      "_________________________________________________________________\n"
     ]
    }
   ],
   "source": [
    "sgd = optimizers.sgd(lr=0.005)\n",
    "\n",
    "heinit = keras.initializers.he_normal(seed=None)\n",
    "networkTunning = models.Sequential()\n",
    "\n",
    "networkTunning.add(layers.Dense(784, activation='elu',kernel_initializer=heinit,input_shape=(28*28,)))\n",
    "networkTunning.add(layers.Dense(784, activation='elu',kernel_initializer=heinit))\n",
    "networkTunning.add(layers.Dense(784, activation='relu',kernel_initializer=heinit))\n",
    "networkTunning.add(layers.Dense(784, activation='relu',kernel_initializer=heinit,kernel_regularizer=regularizers.l2(0.01)))\n",
    "networkTunning.add(layers.Dense(784, activation='linear',kernel_initializer=heinit))\n",
    "networkTunning.add(layers.Dense(784, activation='linear',kernel_initializer=heinit))\n",
    "networkTunning.add(layers.Dense(10, activation='softmax'))\n",
    "\n",
    "networkTunning.compile(optimizer=sgd, loss='categorical_crossentropy', metrics=['accuracy'])\n",
    "networkTunning.summary()"
   ]
  },
  {
   "cell_type": "code",
   "execution_count": 103,
   "metadata": {},
   "outputs": [
    {
     "name": "stdout",
     "output_type": "stream",
     "text": [
      "Train on 54000 samples, validate on 6000 samples\n",
      "Epoch 1/30\n",
      "54000/54000 [==============================] - 6s 119us/step - loss: 15.4507 - acc: 0.8684 - val_loss: 14.6484 - val_acc: 0.9230\n",
      "Epoch 2/30\n",
      "54000/54000 [==============================] - 5s 97us/step - loss: 14.0282 - acc: 0.9317 - val_loss: 13.4258 - val_acc: 0.9400\n",
      "Epoch 3/30\n",
      "54000/54000 [==============================] - 5s 98us/step - loss: 12.8677 - acc: 0.9453 - val_loss: 12.3293 - val_acc: 0.9500\n",
      "Epoch 4/30\n",
      "54000/54000 [==============================] - 5s 98us/step - loss: 11.8162 - acc: 0.9542 - val_loss: 11.3316 - val_acc: 0.9560\n",
      "Epoch 5/30\n",
      "54000/54000 [==============================] - 5s 97us/step - loss: 10.8563 - acc: 0.9604 - val_loss: 10.4177 - val_acc: 0.9603\n",
      "Epoch 6/30\n",
      "54000/54000 [==============================] - 5s 97us/step - loss: 9.9767 - acc: 0.9646 - val_loss: 9.5769 - val_acc: 0.9625\n",
      "Epoch 7/30\n",
      "54000/54000 [==============================] - 5s 98us/step - loss: 9.1706 - acc: 0.9685 - val_loss: 8.8039 - val_acc: 0.9652\n",
      "Epoch 8/30\n",
      "54000/54000 [==============================] - 5s 97us/step - loss: 8.4308 - acc: 0.9712 - val_loss: 8.1001 - val_acc: 0.9667\n",
      "Epoch 9/30\n",
      "54000/54000 [==============================] - 5s 98us/step - loss: 7.7517 - acc: 0.9739 - val_loss: 7.4525 - val_acc: 0.9692\n",
      "Epoch 10/30\n",
      "54000/54000 [==============================] - 5s 98us/step - loss: 7.1279 - acc: 0.9759 - val_loss: 6.8582 - val_acc: 0.9682\n",
      "Epoch 11/30\n",
      "54000/54000 [==============================] - 5s 97us/step - loss: 6.5552 - acc: 0.9778 - val_loss: 6.3110 - val_acc: 0.9695\n",
      "Epoch 12/30\n",
      "54000/54000 [==============================] - 5s 98us/step - loss: 6.0290 - acc: 0.9795 - val_loss: 5.8073 - val_acc: 0.9723\n",
      "Epoch 13/30\n",
      "54000/54000 [==============================] - 5s 98us/step - loss: 5.5456 - acc: 0.9811 - val_loss: 5.3468 - val_acc: 0.9702\n",
      "Epoch 14/30\n",
      "54000/54000 [==============================] - 5s 99us/step - loss: 5.1018 - acc: 0.9821 - val_loss: 4.9201 - val_acc: 0.9705\n",
      "Epoch 15/30\n",
      "54000/54000 [==============================] - 5s 97us/step - loss: 4.6937 - acc: 0.9831 - val_loss: 4.5302 - val_acc: 0.9732\n",
      "Epoch 16/30\n",
      "54000/54000 [==============================] - 5s 98us/step - loss: 4.3190 - acc: 0.9837 - val_loss: 4.1717 - val_acc: 0.9722\n",
      "Epoch 17/30\n",
      "54000/54000 [==============================] - 5s 99us/step - loss: 3.9743 - acc: 0.9848 - val_loss: 3.8440 - val_acc: 0.9733\n",
      "Epoch 18/30\n",
      "54000/54000 [==============================] - 5s 97us/step - loss: 3.6576 - acc: 0.9853 - val_loss: 3.5440 - val_acc: 0.9723\n",
      "Epoch 19/30\n",
      "54000/54000 [==============================] - 5s 98us/step - loss: 3.3669 - acc: 0.9859 - val_loss: 3.2628 - val_acc: 0.9747\n",
      "Epoch 20/30\n",
      "54000/54000 [==============================] - 5s 99us/step - loss: 3.0990 - acc: 0.9872 - val_loss: 3.0075 - val_acc: 0.9735\n",
      "Epoch 21/30\n",
      "54000/54000 [==============================] - 5s 97us/step - loss: 2.8531 - acc: 0.9873 - val_loss: 2.7718 - val_acc: 0.9757\n",
      "Epoch 22/30\n",
      "54000/54000 [==============================] - 5s 97us/step - loss: 2.6276 - acc: 0.9877 - val_loss: 2.5547 - val_acc: 0.9755\n",
      "Epoch 23/30\n",
      "54000/54000 [==============================] - 5s 99us/step - loss: 2.4199 - acc: 0.9884 - val_loss: 2.3579 - val_acc: 0.9753\n",
      "Epoch 24/30\n",
      "54000/54000 [==============================] - 5s 99us/step - loss: 2.2288 - acc: 0.9887 - val_loss: 2.1745 - val_acc: 0.9762\n",
      "Epoch 25/30\n",
      "54000/54000 [==============================] - 5s 98us/step - loss: 2.0536 - acc: 0.9889 - val_loss: 2.0091 - val_acc: 0.9755\n",
      "Epoch 26/30\n",
      "54000/54000 [==============================] - 5s 99us/step - loss: 1.8921 - acc: 0.9895 - val_loss: 1.8516 - val_acc: 0.9770\n",
      "Epoch 27/30\n",
      "54000/54000 [==============================] - 5s 99us/step - loss: 1.7437 - acc: 0.9903 - val_loss: 1.7112 - val_acc: 0.9767\n",
      "Epoch 28/30\n",
      "54000/54000 [==============================] - 5s 99us/step - loss: 1.6077 - acc: 0.9901 - val_loss: 1.5825 - val_acc: 0.9768\n",
      "Epoch 29/30\n",
      "54000/54000 [==============================] - 5s 98us/step - loss: 1.4821 - acc: 0.9911 - val_loss: 1.4646 - val_acc: 0.9762\n",
      "Epoch 30/30\n",
      "54000/54000 [==============================] - 5s 99us/step - loss: 1.3669 - acc: 0.9910 - val_loss: 1.3517 - val_acc: 0.9770\n"
     ]
    }
   ],
   "source": [
    "callback = keras.callbacks.EarlyStopping(\n",
    "    monitor='val_loss', \n",
    "    patience=3, \n",
    ")\n",
    "historyTunning = networkTunning.fit(X_train,y_train,epochs=30,batch_size=128,validation_data=(X_val,y_val),callbacks=[callback])"
   ]
  },
  {
   "cell_type": "markdown",
   "metadata": {},
   "source": [
    "### 7. Final Evaluation\n",
    "\n",
    "After you make sure that your model is good enough to be deploy in application, it is a time to evaluate your model with test set in order to test that your model is generalize well and not overfit to validation set."
   ]
  },
  {
   "cell_type": "code",
   "execution_count": 104,
   "metadata": {},
   "outputs": [
    {
     "data": {
      "image/png": "[encoded data removed]",
      "text/plain": [
       "<Figure size 432x288 with 1 Axes>"
      ]
     },
     "metadata": {
      "needs_background": "light"
     },
     "output_type": "display_data"
    }
   ],
   "source": [
    "plot_loss_fn(historyTunning)"
   ]
  },
  {
   "cell_type": "code",
   "execution_count": 105,
   "metadata": {},
   "outputs": [
    {
     "data": {
      "image/png": "[encoded data removed]",
      "text/plain": [
       "<Figure size 432x288 with 1 Axes>"
      ]
     },
     "metadata": {
      "needs_background": "light"
     },
     "output_type": "display_data"
    }
   ],
   "source": [
    "plot_acc_fn(historyTunning)"
   ]
  },
  {
   "cell_type": "code",
   "execution_count": 106,
   "metadata": {},
   "outputs": [
    {
     "name": "stdout",
     "output_type": "stream",
     "text": [
      "10000/10000 [==============================] - 1s 78us/step\n",
      "Test Loss: 1.3499076578140259\n",
      "Test Accuracy: 0.9752\n"
     ]
    }
   ],
   "source": [
    "### Evaluate the model ###\n",
    "test_loss, test_acc = networkTunning.evaluate(test_images, test_labels)\n",
    "print('Test Loss: %s\\nTest Accuracy: %s' % (test_loss,test_acc))\n",
    "##########################"
   ]
  },
  {
   "cell_type": "markdown",
   "metadata": {},
   "source": [
    "### 8. Play with your model\n",
    "\n",
    "1. Use any kind of drawing application ( For example, Paint or Adobe Photoshop ), create a 28x28 pixel (any resolution) with white background and black paint. \n",
    "2. Draw 3 any distinct single digit number of a range from 0 - 9. Then save the image (PNG)\n",
    "3. Install open-cv (See https://pypi.org/project/opencv-python) by \n",
    "> `pip install opencv-python` <br/> or conda (See https://anaconda.org/conda-forge/opencv)\n",
    "4. Load your image to this IPython using ```imread()``` function\n",
    "5. Preprocess as what you did during the development stage.\n",
    "6. Feed your image to your best model.\n",
    "\n",
    "What class do your model predict? Does it correct? If not, why do it still get negative result since your model get more than 90% accuracy?"
   ]
  },
  {
   "cell_type": "code",
   "execution_count": 107,
   "metadata": {},
   "outputs": [],
   "source": [
    "import cv2\n",
    "import numpy as np"
   ]
  },
  {
   "cell_type": "code",
   "execution_count": 108,
   "metadata": {},
   "outputs": [],
   "source": [
    "import glob"
   ]
  },
  {
   "cell_type": "code",
   "execution_count": 109,
   "metadata": {},
   "outputs": [],
   "source": [
    "image_list = []\n",
    "for filename in glob.glob('img/*.png'):\n",
    "    image_list.append(cv2.imread(filename,0))"
   ]
  },
  {
   "cell_type": "code",
   "execution_count": 110,
   "metadata": {},
   "outputs": [],
   "source": [
    "input_img = np.asarray(image_list)\n",
    "\n",
    "import matplotlib.pyplot as plt\n",
    "%matplotlib inline\n",
    "\n",
    "img_reshape = 1-(input_img.reshape(30,28*28).astype('float32')/255)\n",
    "# img_reshape[0]\n",
    "# plt.imshow(input_img[3]*255, cmap=plt.cm.binary)"
   ]
  },
  {
   "cell_type": "code",
   "execution_count": 111,
   "metadata": {},
   "outputs": [
    {
     "name": "stdout",
     "output_type": "stream",
     "text": [
      "[2 0 0 2 1 1 2 2 2 3 3 3 4 4 4 5 5 5 6 6 6 3 2 3 8 8 1 7 9 9]\n"
     ]
    }
   ],
   "source": [
    "y_pred = networkTunning.predict_classes(img_reshape)\n",
    "print(y_pred)"
   ]
  },
  {
   "cell_type": "code",
   "execution_count": 72,
   "metadata": {},
   "outputs": [
    {
     "data": {
      "text/plain": [
       "<matplotlib.image.AxesImage at 0x2262b895438>"
      ]
     },
     "execution_count": 72,
     "metadata": {},
     "output_type": "execute_result"
    },
    {
     "data": {
      "image/png": "[encoded data removed]",
      "text/plain": [
       "<Figure size 432x288 with 1 Axes>"
      ]
     },
     "metadata": {
      "needs_background": "light"
     },
     "output_type": "display_data"
    }
   ],
   "source": [
    "image1 = cv2.imread('img/4-1.png',0)\n",
    "image2 = cv2.imread('img/2-2.png',0)\n",
    "image3 = cv2.imread('img/0-3.png',0)\n",
    "# print(image.shape)\n",
    "\n",
    "import matplotlib.pyplot as plt\n",
    "%matplotlib inline\n",
    "plt.imshow(image1, cmap=plt.cm.binary)"
   ]
  },
  {
   "cell_type": "code",
   "execution_count": 73,
   "metadata": {},
   "outputs": [
    {
     "data": {
      "text/plain": [
       "<matplotlib.image.AxesImage at 0x2260a7a15c0>"
      ]
     },
     "execution_count": 73,
     "metadata": {},
     "output_type": "execute_result"
    },
    {
     "data": {
      "image/png": "[encoded data removed]",
      "text/plain": [
       "<Figure size 432x288 with 1 Axes>"
      ]
     },
     "metadata": {
      "needs_background": "light"
     },
     "output_type": "display_data"
    }
   ],
   "source": [
    "plt.imshow(image2, cmap=plt.cm.binary)"
   ]
  },
  {
   "cell_type": "code",
   "execution_count": 74,
   "metadata": {},
   "outputs": [
    {
     "data": {
      "text/plain": [
       "<matplotlib.image.AxesImage at 0x2260a6b6630>"
      ]
     },
     "execution_count": 74,
     "metadata": {},
     "output_type": "execute_result"
    },
    {
     "data": {
      "image/png": "[encoded data removed]",
      "text/plain": [
       "<Figure size 432x288 with 1 Axes>"
      ]
     },
     "metadata": {
      "needs_background": "light"
     },
     "output_type": "display_data"
    }
   ],
   "source": [
    "plt.imshow(image3, cmap=plt.cm.binary)"
   ]
  },
  {
   "cell_type": "code",
   "execution_count": null,
   "metadata": {},
   "outputs": [],
   "source": [
    "# image.shape\n",
    "image1 = 1-(image1.reshape(1,28*28).astype('float32')/255)\n",
    "image2 = 1-(image2.reshape(1,28*28).astype('float32')/255)\n",
    "image3 = 1-(image3.reshape(1,28*28).astype('float32')/255)\n",
    "# test[3]"
   ]
  },
  {
   "cell_type": "code",
   "execution_count": 77,
   "metadata": {},
   "outputs": [
    {
     "name": "stdout",
     "output_type": "stream",
     "text": [
      "[8]\n",
      "[8]\n",
      "[8]\n"
     ]
    }
   ],
   "source": [
    "print(networkTunning.predict_classes(image1))\n",
    "print(networkTunning.predict_classes(image2))\n",
    "print(networkTunning.predict_classes(image3))"
   ]
  },
  {
   "cell_type": "markdown",
   "metadata": {},
   "source": [
    "## Answer \n",
    "ถูกต้องมากกว่า 90% และส่วนที่ไม่ถูกอาจจะเป็นเพราะลายมือที่เขียนไปตรงกับเลขอื่นมากกว่า (ตาม weight ใน Model) จึงทำให้ค่าออกมาผิดบ้าง และด้วย Training Set ที่อาจจะยังไม่มากพอจึงทำให้ model ไม่ถูกต้อง 100%"
   ]
  },
  {
   "cell_type": "markdown",
   "metadata": {},
   "source": [
    "### Challenges: Play with initializer\n",
    "\n",
    "- Create two-layer neural network with any hyperparameter\n",
    "- Use or create an weight initializer function that initialize all the weight to one. See: https://keras.io/initializers/\n",
    "- Discuss the result. what happen? and why?"
   ]
  },
  {
   "cell_type": "code",
   "execution_count": null,
   "metadata": {},
   "outputs": [],
   "source": []
  }
 ],
 "metadata": {
  "kernelspec": {
   "display_name": "Python 3",
   "language": "python",
   "name": "python3"
  },
  "language_info": {
   "codemirror_mode": {
    "name": "ipython",
    "version": 3
   },
   "file_extension": ".py",
   "mimetype": "text/x-python",
   "name": "python",
   "nbconvert_exporter": "python",
   "pygments_lexer": "ipython3",
   "version": "3.5.6"
  }
 },
 "nbformat": 4,
 "nbformat_minor": 2
}

{
 "cells": [
  {
   "cell_type": "markdown",
   "metadata": {},
   "source": [
    "# Lab 1: Logistic Regression"
   ]
  },
  {
   "cell_type": "markdown",
   "metadata": {},
   "source": [
    "## Lab Instruction \n",
    "\n",
    "In this lab, you are to create a logistic regression model to predict the sale price of <br>\n",
    "houses (Low, High) from a given set of attributes. <br>\n",
    "The data file is`lab1_dataset.csv` <br>\n",
    "Note that you need to explore and process/drop attributes, <br>\n",
    "and map numerical values of sale prices to categorical values (Low, High)"
   ]
  },
  {
   "cell_type": "markdown",
   "metadata": {},
   "source": [
    "###  1. Import the Dataset and Learn About the Data\n"
   ]
  },
  {
   "cell_type": "code",
   "execution_count": 1,
   "metadata": {},
   "outputs": [
    {
     "name": "stdout",
     "output_type": "stream",
     "text": [
      "(1460, 22)\n"
     ]
    },
    {
     "data": {
      "text/html": [
       "<div>\n",
       "<style scoped>\n",
       "    .dataframe tbody tr th:only-of-type {\n",
       "        vertical-align: middle;\n",
       "    }\n",
       "\n",
       "    .dataframe tbody tr th {\n",
       "        vertical-align: top;\n",
       "    }\n",
       "\n",
       "    .dataframe thead th {\n",
       "        text-align: right;\n",
       "    }\n",
       "</style>\n",
       "<table border=\"1\" class=\"dataframe\">\n",
       "  <thead>\n",
       "    <tr style=\"text-align: right;\">\n",
       "      <th></th>\n",
       "      <th>Id</th>\n",
       "      <th>Foundation</th>\n",
       "      <th>1stFlrSF</th>\n",
       "      <th>KitchenQual</th>\n",
       "      <th>Fireplaces</th>\n",
       "      <th>HeatingQC</th>\n",
       "      <th>FullBath</th>\n",
       "      <th>BsmtQual</th>\n",
       "      <th>OpenPorchSF</th>\n",
       "      <th>GarageYrBlt</th>\n",
       "      <th>...</th>\n",
       "      <th>BsmtFinType1</th>\n",
       "      <th>YearBuilt</th>\n",
       "      <th>GarageArea</th>\n",
       "      <th>TotRmsAbvGrd</th>\n",
       "      <th>GarageCars</th>\n",
       "      <th>GrLivArea</th>\n",
       "      <th>YearRemodAdd</th>\n",
       "      <th>LotFrontage</th>\n",
       "      <th>Fence</th>\n",
       "      <th>SalePrice</th>\n",
       "    </tr>\n",
       "  </thead>\n",
       "  <tbody>\n",
       "    <tr>\n",
       "      <th>0</th>\n",
       "      <td>1</td>\n",
       "      <td>PConc</td>\n",
       "      <td>856</td>\n",
       "      <td>Gd</td>\n",
       "      <td>0</td>\n",
       "      <td>Ex</td>\n",
       "      <td>2</td>\n",
       "      <td>Gd</td>\n",
       "      <td>61</td>\n",
       "      <td>2003.0</td>\n",
       "      <td>...</td>\n",
       "      <td>GLQ</td>\n",
       "      <td>2003</td>\n",
       "      <td>548</td>\n",
       "      <td>8</td>\n",
       "      <td>2</td>\n",
       "      <td>1710</td>\n",
       "      <td>2003</td>\n",
       "      <td>65.0</td>\n",
       "      <td>NaN</td>\n",
       "      <td>208500</td>\n",
       "    </tr>\n",
       "    <tr>\n",
       "      <th>1</th>\n",
       "      <td>2</td>\n",
       "      <td>CBlock</td>\n",
       "      <td>1262</td>\n",
       "      <td>TA</td>\n",
       "      <td>1</td>\n",
       "      <td>Ex</td>\n",
       "      <td>2</td>\n",
       "      <td>Gd</td>\n",
       "      <td>0</td>\n",
       "      <td>1976.0</td>\n",
       "      <td>...</td>\n",
       "      <td>ALQ</td>\n",
       "      <td>1976</td>\n",
       "      <td>460</td>\n",
       "      <td>6</td>\n",
       "      <td>2</td>\n",
       "      <td>1262</td>\n",
       "      <td>1976</td>\n",
       "      <td>80.0</td>\n",
       "      <td>NaN</td>\n",
       "      <td>181500</td>\n",
       "    </tr>\n",
       "    <tr>\n",
       "      <th>2</th>\n",
       "      <td>3</td>\n",
       "      <td>PConc</td>\n",
       "      <td>920</td>\n",
       "      <td>Gd</td>\n",
       "      <td>1</td>\n",
       "      <td>Ex</td>\n",
       "      <td>2</td>\n",
       "      <td>Gd</td>\n",
       "      <td>42</td>\n",
       "      <td>2001.0</td>\n",
       "      <td>...</td>\n",
       "      <td>GLQ</td>\n",
       "      <td>2001</td>\n",
       "      <td>608</td>\n",
       "      <td>6</td>\n",
       "      <td>2</td>\n",
       "      <td>1786</td>\n",
       "      <td>2002</td>\n",
       "      <td>68.0</td>\n",
       "      <td>NaN</td>\n",
       "      <td>223500</td>\n",
       "    </tr>\n",
       "    <tr>\n",
       "      <th>3</th>\n",
       "      <td>4</td>\n",
       "      <td>BrkTil</td>\n",
       "      <td>961</td>\n",
       "      <td>Gd</td>\n",
       "      <td>1</td>\n",
       "      <td>Gd</td>\n",
       "      <td>1</td>\n",
       "      <td>TA</td>\n",
       "      <td>35</td>\n",
       "      <td>1998.0</td>\n",
       "      <td>...</td>\n",
       "      <td>ALQ</td>\n",
       "      <td>1915</td>\n",
       "      <td>642</td>\n",
       "      <td>7</td>\n",
       "      <td>3</td>\n",
       "      <td>1717</td>\n",
       "      <td>1970</td>\n",
       "      <td>60.0</td>\n",
       "      <td>NaN</td>\n",
       "      <td>140000</td>\n",
       "    </tr>\n",
       "    <tr>\n",
       "      <th>4</th>\n",
       "      <td>5</td>\n",
       "      <td>PConc</td>\n",
       "      <td>1145</td>\n",
       "      <td>Gd</td>\n",
       "      <td>1</td>\n",
       "      <td>Ex</td>\n",
       "      <td>2</td>\n",
       "      <td>Gd</td>\n",
       "      <td>84</td>\n",
       "      <td>2000.0</td>\n",
       "      <td>...</td>\n",
       "      <td>GLQ</td>\n",
       "      <td>2000</td>\n",
       "      <td>836</td>\n",
       "      <td>9</td>\n",
       "      <td>3</td>\n",
       "      <td>2198</td>\n",
       "      <td>2000</td>\n",
       "      <td>84.0</td>\n",
       "      <td>NaN</td>\n",
       "      <td>250000</td>\n",
       "    </tr>\n",
       "    <tr>\n",
       "      <th>5</th>\n",
       "      <td>6</td>\n",
       "      <td>Wood</td>\n",
       "      <td>796</td>\n",
       "      <td>TA</td>\n",
       "      <td>0</td>\n",
       "      <td>Ex</td>\n",
       "      <td>1</td>\n",
       "      <td>Gd</td>\n",
       "      <td>30</td>\n",
       "      <td>1993.0</td>\n",
       "      <td>...</td>\n",
       "      <td>GLQ</td>\n",
       "      <td>1993</td>\n",
       "      <td>480</td>\n",
       "      <td>5</td>\n",
       "      <td>2</td>\n",
       "      <td>1362</td>\n",
       "      <td>1995</td>\n",
       "      <td>85.0</td>\n",
       "      <td>MnPrv</td>\n",
       "      <td>143000</td>\n",
       "    </tr>\n",
       "    <tr>\n",
       "      <th>6</th>\n",
       "      <td>7</td>\n",
       "      <td>PConc</td>\n",
       "      <td>1694</td>\n",
       "      <td>Gd</td>\n",
       "      <td>1</td>\n",
       "      <td>Ex</td>\n",
       "      <td>2</td>\n",
       "      <td>Ex</td>\n",
       "      <td>57</td>\n",
       "      <td>2004.0</td>\n",
       "      <td>...</td>\n",
       "      <td>GLQ</td>\n",
       "      <td>2004</td>\n",
       "      <td>636</td>\n",
       "      <td>7</td>\n",
       "      <td>2</td>\n",
       "      <td>1694</td>\n",
       "      <td>2005</td>\n",
       "      <td>75.0</td>\n",
       "      <td>NaN</td>\n",
       "      <td>307000</td>\n",
       "    </tr>\n",
       "    <tr>\n",
       "      <th>7</th>\n",
       "      <td>8</td>\n",
       "      <td>CBlock</td>\n",
       "      <td>1107</td>\n",
       "      <td>TA</td>\n",
       "      <td>2</td>\n",
       "      <td>Ex</td>\n",
       "      <td>2</td>\n",
       "      <td>Gd</td>\n",
       "      <td>204</td>\n",
       "      <td>1973.0</td>\n",
       "      <td>...</td>\n",
       "      <td>ALQ</td>\n",
       "      <td>1973</td>\n",
       "      <td>484</td>\n",
       "      <td>7</td>\n",
       "      <td>2</td>\n",
       "      <td>2090</td>\n",
       "      <td>1973</td>\n",
       "      <td>NaN</td>\n",
       "      <td>NaN</td>\n",
       "      <td>200000</td>\n",
       "    </tr>\n",
       "    <tr>\n",
       "      <th>8</th>\n",
       "      <td>9</td>\n",
       "      <td>BrkTil</td>\n",
       "      <td>1022</td>\n",
       "      <td>TA</td>\n",
       "      <td>2</td>\n",
       "      <td>Gd</td>\n",
       "      <td>2</td>\n",
       "      <td>TA</td>\n",
       "      <td>0</td>\n",
       "      <td>1931.0</td>\n",
       "      <td>...</td>\n",
       "      <td>Unf</td>\n",
       "      <td>1931</td>\n",
       "      <td>468</td>\n",
       "      <td>8</td>\n",
       "      <td>2</td>\n",
       "      <td>1774</td>\n",
       "      <td>1950</td>\n",
       "      <td>51.0</td>\n",
       "      <td>NaN</td>\n",
       "      <td>129900</td>\n",
       "    </tr>\n",
       "    <tr>\n",
       "      <th>9</th>\n",
       "      <td>10</td>\n",
       "      <td>BrkTil</td>\n",
       "      <td>1077</td>\n",
       "      <td>TA</td>\n",
       "      <td>2</td>\n",
       "      <td>Ex</td>\n",
       "      <td>1</td>\n",
       "      <td>TA</td>\n",
       "      <td>4</td>\n",
       "      <td>1939.0</td>\n",
       "      <td>...</td>\n",
       "      <td>GLQ</td>\n",
       "      <td>1939</td>\n",
       "      <td>205</td>\n",
       "      <td>5</td>\n",
       "      <td>1</td>\n",
       "      <td>1077</td>\n",
       "      <td>1950</td>\n",
       "      <td>50.0</td>\n",
       "      <td>NaN</td>\n",
       "      <td>118000</td>\n",
       "    </tr>\n",
       "  </tbody>\n",
       "</table>\n",
       "<p>10 rows × 22 columns</p>\n",
       "</div>"
      ],
      "text/plain": [
       "   Id Foundation  1stFlrSF KitchenQual  Fireplaces HeatingQC  FullBath  \\\n",
       "0   1      PConc       856          Gd           0        Ex         2   \n",
       "1   2     CBlock      1262          TA           1        Ex         2   \n",
       "2   3      PConc       920          Gd           1        Ex         2   \n",
       "3   4     BrkTil       961          Gd           1        Gd         1   \n",
       "4   5      PConc      1145          Gd           1        Ex         2   \n",
       "5   6       Wood       796          TA           0        Ex         1   \n",
       "6   7      PConc      1694          Gd           1        Ex         2   \n",
       "7   8     CBlock      1107          TA           2        Ex         2   \n",
       "8   9     BrkTil      1022          TA           2        Gd         2   \n",
       "9  10     BrkTil      1077          TA           2        Ex         1   \n",
       "\n",
       "  BsmtQual  OpenPorchSF  GarageYrBlt    ...     BsmtFinType1  YearBuilt  \\\n",
       "0       Gd           61       2003.0    ...              GLQ       2003   \n",
       "1       Gd            0       1976.0    ...              ALQ       1976   \n",
       "2       Gd           42       2001.0    ...              GLQ       2001   \n",
       "3       TA           35       1998.0    ...              ALQ       1915   \n",
       "4       Gd           84       2000.0    ...              GLQ       2000   \n",
       "5       Gd           30       1993.0    ...              GLQ       1993   \n",
       "6       Ex           57       2004.0    ...              GLQ       2004   \n",
       "7       Gd          204       1973.0    ...              ALQ       1973   \n",
       "8       TA            0       1931.0    ...              Unf       1931   \n",
       "9       TA            4       1939.0    ...              GLQ       1939   \n",
       "\n",
       "  GarageArea  TotRmsAbvGrd  GarageCars  GrLivArea  YearRemodAdd  LotFrontage  \\\n",
       "0        548             8           2       1710          2003         65.0   \n",
       "1        460             6           2       1262          1976         80.0   \n",
       "2        608             6           2       1786          2002         68.0   \n",
       "3        642             7           3       1717          1970         60.0   \n",
       "4        836             9           3       2198          2000         84.0   \n",
       "5        480             5           2       1362          1995         85.0   \n",
       "6        636             7           2       1694          2005         75.0   \n",
       "7        484             7           2       2090          1973          NaN   \n",
       "8        468             8           2       1774          1950         51.0   \n",
       "9        205             5           1       1077          1950         50.0   \n",
       "\n",
       "   Fence  SalePrice  \n",
       "0    NaN     208500  \n",
       "1    NaN     181500  \n",
       "2    NaN     223500  \n",
       "3    NaN     140000  \n",
       "4    NaN     250000  \n",
       "5  MnPrv     143000  \n",
       "6    NaN     307000  \n",
       "7    NaN     200000  \n",
       "8    NaN     129900  \n",
       "9    NaN     118000  \n",
       "\n",
       "[10 rows x 22 columns]"
      ]
     },
     "execution_count": 1,
     "metadata": {},
     "output_type": "execute_result"
    }
   ],
   "source": [
    "import pandas as pd\n",
    "dataIn = pd.read_csv(\"lab1_dataset.csv\",sep=\",\")\n",
    "print(dataIn.shape)\n",
    "dataIn.head(10)"
   ]
  },
  {
   "cell_type": "markdown",
   "metadata": {},
   "source": [
    "###  2. Preprocessing\n",
    "\n",
    "Use techniques that you have learned to preprocess the data. For example, \n",
    "-  Remove non-informative features\n",
    "-  Remove features with too many NA\n",
    "-  Remove rows with incomplete data\n",
    "-  Remove features with highly unbalanced labels\n",
    "-  Encode categorical variables as appropriate"
   ]
  },
  {
   "cell_type": "code",
   "execution_count": 2,
   "metadata": {},
   "outputs": [
    {
     "name": "stdout",
     "output_type": "stream",
     "text": [
      "NA Percentage(%)\n",
      "Id               0.000000\n",
      "Foundation       0.000000\n",
      "1stFlrSF         0.000000\n",
      "KitchenQual      0.000000\n",
      "Fireplaces       0.000000\n",
      "HeatingQC        0.000000\n",
      "FullBath         0.000000\n",
      "BsmtQual         2.534247\n",
      "OpenPorchSF      0.000000\n",
      "GarageYrBlt      5.547945\n",
      "ExterQual        0.000000\n",
      "OverallQual      0.000000\n",
      "BsmtFinType1     2.534247\n",
      "YearBuilt        0.000000\n",
      "GarageArea       0.000000\n",
      "TotRmsAbvGrd     0.000000\n",
      "GarageCars       0.000000\n",
      "GrLivArea        0.000000\n",
      "YearRemodAdd     0.000000\n",
      "LotFrontage     17.739726\n",
      "Fence           80.753425\n",
      "SalePrice        0.000000\n",
      "dtype: float64\n"
     ]
    }
   ],
   "source": [
    "print(\"NA Percentage(%)\")\n",
    "print((dataIn.isna().sum()/dataIn.shape[0])*100)"
   ]
  },
  {
   "cell_type": "markdown",
   "metadata": {},
   "source": [
    "We will see the column Fence has too many Na (About 80%) then drop it"
   ]
  },
  {
   "cell_type": "code",
   "execution_count": 3,
   "metadata": {},
   "outputs": [],
   "source": [
    "#ID cannot use to predict\n",
    "clean_nonInformative = dataIn.drop(['Id','Fence'],axis=1)# fence too many NaN"
   ]
  },
  {
   "cell_type": "code",
   "execution_count": 4,
   "metadata": {},
   "outputs": [
    {
     "data": {
      "text/html": [
       "<div>\n",
       "<style scoped>\n",
       "    .dataframe tbody tr th:only-of-type {\n",
       "        vertical-align: middle;\n",
       "    }\n",
       "\n",
       "    .dataframe tbody tr th {\n",
       "        vertical-align: top;\n",
       "    }\n",
       "\n",
       "    .dataframe thead th {\n",
       "        text-align: right;\n",
       "    }\n",
       "</style>\n",
       "<table border=\"1\" class=\"dataframe\">\n",
       "  <thead>\n",
       "    <tr style=\"text-align: right;\">\n",
       "      <th></th>\n",
       "      <th>Foundation</th>\n",
       "      <th>KitchenQual</th>\n",
       "      <th>HeatingQC</th>\n",
       "      <th>BsmtQual</th>\n",
       "      <th>ExterQual</th>\n",
       "      <th>BsmtFinType1</th>\n",
       "    </tr>\n",
       "  </thead>\n",
       "  <tbody>\n",
       "    <tr>\n",
       "      <th>count</th>\n",
       "      <td>1103</td>\n",
       "      <td>1103</td>\n",
       "      <td>1103</td>\n",
       "      <td>1103</td>\n",
       "      <td>1103</td>\n",
       "      <td>1103</td>\n",
       "    </tr>\n",
       "    <tr>\n",
       "      <th>unique</th>\n",
       "      <td>5</td>\n",
       "      <td>4</td>\n",
       "      <td>5</td>\n",
       "      <td>4</td>\n",
       "      <td>4</td>\n",
       "      <td>6</td>\n",
       "    </tr>\n",
       "    <tr>\n",
       "      <th>top</th>\n",
       "      <td>PConc</td>\n",
       "      <td>TA</td>\n",
       "      <td>Ex</td>\n",
       "      <td>TA</td>\n",
       "      <td>TA</td>\n",
       "      <td>Unf</td>\n",
       "    </tr>\n",
       "    <tr>\n",
       "      <th>freq</th>\n",
       "      <td>527</td>\n",
       "      <td>528</td>\n",
       "      <td>602</td>\n",
       "      <td>486</td>\n",
       "      <td>647</td>\n",
       "      <td>347</td>\n",
       "    </tr>\n",
       "  </tbody>\n",
       "</table>\n",
       "</div>"
      ],
      "text/plain": [
       "       Foundation KitchenQual HeatingQC BsmtQual ExterQual BsmtFinType1\n",
       "count        1103        1103      1103     1103      1103         1103\n",
       "unique          5           4         5        4         4            6\n",
       "top         PConc          TA        Ex       TA        TA          Unf\n",
       "freq          527         528       602      486       647          347"
      ]
     },
     "execution_count": 4,
     "metadata": {},
     "output_type": "execute_result"
    }
   ],
   "source": [
    "# Clean row that has Na value\n",
    "clean_row_na = clean_nonInformative.dropna(how='any')\n",
    "clean_row_na.select_dtypes(exclude = ['int64','float64']).describe()"
   ]
  },
  {
   "cell_type": "markdown",
   "metadata": {},
   "source": [
    "Replace All String(Text) with number(Encode)"
   ]
  },
  {
   "cell_type": "code",
   "execution_count": 5,
   "metadata": {},
   "outputs": [],
   "source": [
    "codebook1 = {'Ex':5,'Gd':4,'TA':3,'Fa':2,'Po':1} # Excellent, Good, Typical, Fair, Poor\n",
    "codebook2 = {'Unf':5,'GLQ':6,'ALQ':4,'BLQ':3,'Rec':2,'LwQ':1}\n",
    "codebook3 = {'PConc':6,'CBlock':5,'Slab':4,'BrkTil':3,'Stone':2,'Wood':1 }\n",
    "data_encode1 = clean_row_na.replace(codebook1)\n",
    "data_encode1 = data_encode1.replace(codebook2)\n",
    "data_encode1 = data_encode1.replace(codebook3)"
   ]
  },
  {
   "cell_type": "code",
   "execution_count": 6,
   "metadata": {},
   "outputs": [
    {
     "name": "stdout",
     "output_type": "stream",
     "text": [
      "<class 'pandas.core.frame.DataFrame'>\n",
      "Int64Index: 1103 entries, 0 to 1459\n",
      "Data columns (total 20 columns):\n",
      "Foundation      1103 non-null int64\n",
      "1stFlrSF        1103 non-null int64\n",
      "KitchenQual     1103 non-null int64\n",
      "Fireplaces      1103 non-null int64\n",
      "HeatingQC       1103 non-null int64\n",
      "FullBath        1103 non-null int64\n",
      "BsmtQual        1103 non-null int64\n",
      "OpenPorchSF     1103 non-null int64\n",
      "GarageYrBlt     1103 non-null float64\n",
      "ExterQual       1103 non-null int64\n",
      "OverallQual     1103 non-null int64\n",
      "BsmtFinType1    1103 non-null int64\n",
      "YearBuilt       1103 non-null int64\n",
      "GarageArea      1103 non-null int64\n",
      "TotRmsAbvGrd    1103 non-null int64\n",
      "GarageCars      1103 non-null int64\n",
      "GrLivArea       1103 non-null int64\n",
      "YearRemodAdd    1103 non-null int64\n",
      "LotFrontage     1103 non-null float64\n",
      "SalePrice       1103 non-null int64\n",
      "dtypes: float64(2), int64(18)\n",
      "memory usage: 181.0 KB\n"
     ]
    }
   ],
   "source": [
    "data_encode1.info()"
   ]
  },
  {
   "cell_type": "code",
   "execution_count": 7,
   "metadata": {},
   "outputs": [],
   "source": [
    "#Get Correclation Coefficient\n",
    "# data_encode1.corr()"
   ]
  },
  {
   "cell_type": "markdown",
   "metadata": {},
   "source": [
    "Check Unbalance Label"
   ]
  },
  {
   "cell_type": "code",
   "execution_count": 8,
   "metadata": {},
   "outputs": [
    {
     "name": "stdout",
     "output_type": "stream",
     "text": [
      "6    0.477788\n",
      "5    0.404352\n",
      "3    0.110607\n",
      "2    0.005440\n",
      "1    0.001813\n",
      "Name: Foundation, dtype: float64\n"
     ]
    }
   ],
   "source": [
    "print(data_encode1['Foundation'].value_counts(1))\n",
    "cleaned_high_unb1 = data_encode1.drop('Foundation',axis=1)"
   ]
  },
  {
   "cell_type": "code",
   "execution_count": 9,
   "metadata": {},
   "outputs": [
    {
     "name": "stdout",
     "output_type": "stream",
     "text": [
      "3    0.478694\n",
      "4    0.418858\n",
      "5    0.083409\n",
      "2    0.019039\n",
      "Name: KitchenQual, dtype: float64\n"
     ]
    }
   ],
   "source": [
    "print(data_encode1['KitchenQual'].value_counts(1))"
   ]
  },
  {
   "cell_type": "code",
   "execution_count": 10,
   "metadata": {},
   "outputs": [
    {
     "name": "stdout",
     "output_type": "stream",
     "text": [
      "5    0.545784\n",
      "3    0.270172\n",
      "4    0.158658\n",
      "2    0.024479\n",
      "1    0.000907\n",
      "Name: HeatingQC, dtype: float64\n"
     ]
    }
   ],
   "source": [
    "print(data_encode1['HeatingQC'].value_counts(1))\n",
    "cleaned_high_unb2 = cleaned_high_unb1.drop(['HeatingQC'],axis=1)"
   ]
  },
  {
   "cell_type": "code",
   "execution_count": 11,
   "metadata": {},
   "outputs": [
    {
     "name": "stdout",
     "output_type": "stream",
     "text": [
      "3    0.440617\n",
      "4    0.427017\n",
      "5    0.103354\n",
      "2    0.029012\n",
      "Name: BsmtQual, dtype: float64\n"
     ]
    }
   ],
   "source": [
    "print(data_encode1['BsmtQual'].value_counts(1))"
   ]
  },
  {
   "cell_type": "code",
   "execution_count": 12,
   "metadata": {},
   "outputs": [
    {
     "name": "stdout",
     "output_type": "stream",
     "text": [
      "3    0.586582\n",
      "4    0.364461\n",
      "5    0.042611\n",
      "2    0.006346\n",
      "Name: ExterQual, dtype: float64\n"
     ]
    }
   ],
   "source": [
    "print(data_encode1['ExterQual'].value_counts(1))"
   ]
  },
  {
   "cell_type": "code",
   "execution_count": 13,
   "metadata": {},
   "outputs": [
    {
     "name": "stdout",
     "output_type": "stream",
     "text": [
      "5    0.314597\n",
      "6    0.297371\n",
      "4    0.146872\n",
      "3    0.095195\n",
      "2    0.095195\n",
      "1    0.050771\n",
      "Name: BsmtFinType1, dtype: float64\n"
     ]
    }
   ],
   "source": [
    "print(data_encode1['BsmtFinType1'].value_counts(1))"
   ]
  },
  {
   "cell_type": "code",
   "execution_count": 14,
   "metadata": {},
   "outputs": [
    {
     "data": {
      "text/plain": [
       "(20, 18)"
      ]
     },
     "execution_count": 14,
     "metadata": {},
     "output_type": "execute_result"
    }
   ],
   "source": [
    "cleaned_high_unb2.head(20).shape"
   ]
  },
  {
   "cell_type": "code",
   "execution_count": 15,
   "metadata": {},
   "outputs": [
    {
     "name": "stdout",
     "output_type": "stream",
     "text": [
      "<class 'pandas.core.frame.DataFrame'>\n",
      "Int64Index: 1103 entries, 0 to 1459\n",
      "Data columns (total 18 columns):\n",
      "1stFlrSF        1103 non-null int64\n",
      "KitchenQual     1103 non-null int64\n",
      "Fireplaces      1103 non-null int64\n",
      "FullBath        1103 non-null int64\n",
      "BsmtQual        1103 non-null int64\n",
      "OpenPorchSF     1103 non-null int64\n",
      "GarageYrBlt     1103 non-null float64\n",
      "ExterQual       1103 non-null int64\n",
      "OverallQual     1103 non-null int64\n",
      "BsmtFinType1    1103 non-null int64\n",
      "YearBuilt       1103 non-null int64\n",
      "GarageArea      1103 non-null int64\n",
      "TotRmsAbvGrd    1103 non-null int64\n",
      "GarageCars      1103 non-null int64\n",
      "GrLivArea       1103 non-null int64\n",
      "YearRemodAdd    1103 non-null int64\n",
      "LotFrontage     1103 non-null float64\n",
      "SalePrice       1103 non-null int64\n",
      "dtypes: float64(2), int64(16)\n",
      "memory usage: 163.7 KB\n"
     ]
    }
   ],
   "source": [
    "cleaned_data = cleaned_high_unb2\n",
    "cleaned_data.info()"
   ]
  },
  {
   "cell_type": "markdown",
   "metadata": {},
   "source": [
    "### 3. Model Training \n",
    "We will use Scikit-learn package to build a model.\n",
    "- http://scikit-learn.org/stable/\n",
    "\n",
    "Model Evaluation Method\n",
    "- Split into train set and test set"
   ]
  },
  {
   "cell_type": "code",
   "execution_count": 23,
   "metadata": {},
   "outputs": [
    {
     "name": "stdout",
     "output_type": "stream",
     "text": [
      "Train: (661, 17) (661,)\n",
      "Test: (442, 17) (442,)\n"
     ]
    }
   ],
   "source": [
    "data_x = cleaned_data.drop(['SalePrice'],axis = 1)\n",
    "data_y = cleaned_data.SalePrice\n",
    "\n",
    "from sklearn.model_selection import train_test_split\n",
    "x_train, x_test, y_train, y_test = train_test_split(data_x, data_y, test_size = 0.4)\n",
    "print(\"Train:\",x_train.shape, y_train.shape) \n",
    "print(\"Test:\",x_test.shape, y_test.shape)"
   ]
  },
  {
   "cell_type": "markdown",
   "metadata": {},
   "source": [
    "- Fit Logistic Regression model"
   ]
  },
  {
   "cell_type": "code",
   "execution_count": 24,
   "metadata": {},
   "outputs": [],
   "source": [
    "from sklearn import linear_model\n",
    "\n",
    "lr = linear_model.LogisticRegression()\n",
    "lr.fit(x_train,y_train)\n",
    "\n",
    "yhat_test = lr.predict(x_test)\n",
    "yhat_train = lr.predict(x_train)\n",
    "# print(y_test)\n",
    "# print(yhat_test)\n",
    "# print(y_train)\n",
    "# print(yhat_train)"
   ]
  },
  {
   "cell_type": "markdown",
   "metadata": {},
   "source": [
    "### 4. Model Tuning &  Result Analysis \n",
    "\n",
    "Analyze the model results. Do you think the model is good enough? <br>\n",
    "Does it overfit or underfit the data? <br>\n",
    "Explain and provide evidence to support your claims.\n"
   ]
  },
  {
   "cell_type": "code",
   "execution_count": 25,
   "metadata": {},
   "outputs": [
    {
     "name": "stdout",
     "output_type": "stream",
     "text": [
      "Accuracy score for train dataset:63.84 %\n",
      "Accuracy score for train dataset:1.13 %\n"
     ]
    }
   ],
   "source": [
    "from sklearn.metrics import accuracy_score\n",
    "\n",
    "acc_train = accuracy_score(y_train,yhat_train)\n",
    "print(\"Accuracy score for train dataset:{} %\".format('%0.2f'%(acc_train*100)))\n",
    "acc_train = accuracy_score(y_test,yhat_test)\n",
    "print(\"Accuracy score for train dataset:{} %\".format('%0.2f'%(acc_train*100)))"
   ]
  },
  {
   "cell_type": "markdown",
   "metadata": {},
   "source": [
    "Model is Overfitting because the equation in the model was tuning to fit the training_set already. When the testing_set(other data) come the model cannot fit the data then the accuracy is about 0.5-1% but the model can predict the trend then we have to define price to range ex. 0-10000 is low, 10001-20000 is medium, >20001 is high"
   ]
  },
  {
   "cell_type": "markdown",
   "metadata": {},
   "source": [
    "### 5. (Optional) Mutlinomial Logistic Regression Model\n",
    "\n",
    "Binning the sale price into three classes : `Low`, `Medium`, `High`.\n",
    "Then, apply the logistic regression model and evaluate the model performance. <br>\n",
    "See http://scikit-learn.org/stable/modules/generated/sklearn.linear_model.LogisticRegression.html"
   ]
  },
  {
   "cell_type": "code",
   "execution_count": 26,
   "metadata": {},
   "outputs": [],
   "source": [
    "import pandas as pd\n",
    "cleaned_encoded_data = cleaned_data.copy()"
   ]
  },
  {
   "cell_type": "markdown",
   "metadata": {},
   "source": [
    "Set range to saleprice"
   ]
  },
  {
   "cell_type": "code",
   "execution_count": 27,
   "metadata": {},
   "outputs": [],
   "source": [
    "cleaned_encoded_data['SalePrice'] = pd.qcut(cleaned_data['SalePrice'], q=[0,0.33,0.66,1], labels=['Low','Medium','High'])"
   ]
  },
  {
   "cell_type": "markdown",
   "metadata": {},
   "source": [
    "### Train-Test Split"
   ]
  },
  {
   "cell_type": "code",
   "execution_count": 28,
   "metadata": {},
   "outputs": [],
   "source": [
    "data_x = cleaned_encoded_data.drop(['SalePrice'],axis = 1)\n",
    "data_y = cleaned_encoded_data.SalePrice"
   ]
  },
  {
   "cell_type": "code",
   "execution_count": 29,
   "metadata": {},
   "outputs": [
    {
     "name": "stdout",
     "output_type": "stream",
     "text": [
      "Train: (661, 17) (661,)\n",
      "Test: (442, 17) (442,)\n"
     ]
    }
   ],
   "source": [
    "x_train, x_test, y_train, y_test = train_test_split(data_x, data_y, test_size = 0.4)\n",
    "print(\"Train:\",x_train.shape, y_train.shape) \n",
    "print(\"Test:\",x_test.shape, y_test.shape)"
   ]
  },
  {
   "cell_type": "markdown",
   "metadata": {},
   "source": [
    "### Model Training"
   ]
  },
  {
   "cell_type": "code",
   "execution_count": 30,
   "metadata": {},
   "outputs": [],
   "source": [
    "lr = linear_model.LogisticRegression()\n",
    "lr.fit(x_train,y_train)\n",
    "\n",
    "yhat_test = lr.predict(x_test)\n",
    "yhat_train = lr.predict(x_train)"
   ]
  },
  {
   "cell_type": "markdown",
   "metadata": {},
   "source": [
    "### Evaluation"
   ]
  },
  {
   "cell_type": "code",
   "execution_count": 31,
   "metadata": {},
   "outputs": [
    {
     "name": "stdout",
     "output_type": "stream",
     "text": [
      "Accuracy score for train dataset:77.00 %\n",
      "Accuracy score for test dataset:78.05 %\n"
     ]
    }
   ],
   "source": [
    "acc_train = accuracy_score(y_train,yhat_train)\n",
    "print(\"Accuracy score for train dataset:{} %\".format('%0.2f'%(acc_train*100)))\n",
    "acc_test = accuracy_score(y_test,yhat_test)\n",
    "print(\"Accuracy score for test dataset:{} %\".format('%0.2f'%(acc_test*100)))"
   ]
  }
 ],
 "metadata": {
  "kernelspec": {
   "display_name": "Python 3",
   "language": "python",
   "name": "python3"
  },
  "language_info": {
   "codemirror_mode": {
    "name": "ipython",
    "version": 3
   },
   "file_extension": ".py",
   "mimetype": "text/x-python",
   "name": "python",
   "nbconvert_exporter": "python",
   "pygments_lexer": "ipython3",
   "version": "3.5.6"
  }
 },
 "nbformat": 4,
 "nbformat_minor": 2
}
